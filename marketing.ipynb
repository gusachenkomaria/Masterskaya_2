{
 "cells": [
  {
   "cell_type": "markdown",
   "id": "de3e4b2a",
   "metadata": {
    "id": "de3e4b2a"
   },
   "source": [
    "Интернет-магазин собирает историю покупателей, проводит рассылки предложений и планирует будущие продажи. Для оптимизации процессов надо выделить пользователей, которые готовы совершить покупку в ближайшие 90 дней.\n",
    "\n",
    "<br>Цель:\n",
    "<br>Предсказать вероятность покупки в течение 90 дней\n",
    "\n",
    "<br>Задачи\n",
    "<br>- Изучить данные\n",
    "<br>- Разработать полезные признаки\n",
    "<br>- Создать модель для классификации пользователей\n",
    "<br>- Обучить модель и найти метрику roc-auc\n",
    "<br>- Выполнить тестирование\n",
    "\n",
    "<br>Данные:\n",
    "<br>apparel-purchases - история покупок\n",
    "<br>- client_id - идентификатор пользователя\n",
    "<br>- quantity - количество товаров в заказе\n",
    "<br>- price - цена товара\n",
    "<br>- category_ids - вложенные категории, к которым отнсится товар\n",
    "<br>- date - дата покупки\n",
    "<br>- message_id - идентификатор сообщения из рассылки\n",
    "\n",
    "<br>apparel-messages - история рекламных рассылок\n",
    "<br>- bulk_campaign_id - идентификатор рекламной кампании\n",
    "<br>- client_id - идентификатор пользователя\n",
    "<br>- message_id - идентификатор сообщений\n",
    "<br>- event - тип события\n",
    "<br>- channel - канал рассылки\n",
    "<br>- date - дата рассылки\n",
    "<br>- created_at - точное время создания сообщения\n",
    "\n",
    "<br>apparel-target_binary - совершит ли клиент покупку в течение следующих 90 дней\n",
    "<br>- client_id - идентификатор пользователя\n",
    "<br>- target - целевой признак"
   ]
  },
  {
   "cell_type": "markdown",
   "id": "06015e3d",
   "metadata": {
    "id": "06015e3d"
   },
   "source": [
    "## Шаг 1. Загрузка данных"
   ]
  },
  {
   "cell_type": "code",
   "execution_count": 1,
   "id": "dbc98eff",
   "metadata": {
    "id": "dbc98eff"
   },
   "outputs": [],
   "source": [
    "!pip install -U scikit-learn -q\n",
    "!pip install shap -q\n",
    "!pip install phik -q\n",
    "!pip install catboost -q\n",
    "!pip install lightgbm -q"
   ]
  },
  {
   "cell_type": "code",
   "execution_count": 2,
   "id": "3ab1f9b9",
   "metadata": {
    "colab": {
     "base_uri": "https://localhost:8080/"
    },
    "id": "3ab1f9b9",
    "outputId": "9b61e23a-bd11-477a-a4ca-c7d63d4c0e77"
   },
   "outputs": [],
   "source": [
    "import pandas as pd\n",
    "import numpy as np\n",
    "import matplotlib.pyplot as plt\n",
    "import seaborn as sns\n",
    "import phik\n",
    "import shap\n",
    "import warnings\n",
    "\n",
    "import catboost\n",
    "import lightgbm\n",
    "\n",
    "from catboost import CatBoostClassifier\n",
    "from lightgbm import LGBMClassifier\n",
    "\n",
    "from scipy import stats\n",
    "from sklearn.model_selection import train_test_split\n",
    "from sklearn.linear_model import LogisticRegression, LinearRegression\n",
    "from sklearn.tree import DecisionTreeClassifier\n",
    "from sklearn.metrics import roc_auc_score\n",
    "\n",
    "try:\n",
    "    from yellowbrick.classifier import ROCAUC\n",
    "except ImportError:\n",
    "    !pip install yellowbrick\n",
    "    from yellowbrick.classifier import ROCAUC\n",
    "\n",
    "\n",
    "from phik import phik_matrix\n",
    "from phik.report import plot_correlation_matrix\n",
    "\n",
    "from sklearn.model_selection import KFold, cross_val_score, RandomizedSearchCV\n",
    "from sklearn.preprocessing import (\n",
    "    StandardScaler, MinMaxScaler, OneHotEncoder\n",
    ")\n",
    "\n",
    "from sklearn.pipeline import Pipeline\n",
    "from imblearn.over_sampling import SMOTE\n",
    "from imblearn.pipeline import Pipeline as ImbPipeline\n",
    "from sklearn.compose import ColumnTransformer\n",
    "from sklearn.impute import SimpleImputer\n",
    "from sklearn.neighbors import KNeighborsClassifier\n",
    "\n",
    "\n",
    "RANDOM_STATE = 42\n",
    "TEST_SIZE = 0.25\n",
    "\n",
    "pd.set_option('display.max_columns', None)\n",
    "warnings.filterwarnings('ignore')"
   ]
  },
  {
   "cell_type": "code",
   "execution_count": 3,
   "id": "78b44491",
   "metadata": {
    "id": "78b44491"
   },
   "outputs": [],
   "source": [
    "#функция вывода основной информации о таблице\n",
    "def information(data):\n",
    "    print(f'Размер фрейма {data.shape} \\n')\n",
    "    print('Первые пять строк таблицы')\n",
    "    display(data.head())\n",
    "    print('\\n Основная информация о файле')\n",
    "    print(data.info())"
   ]
  },
  {
   "cell_type": "code",
   "execution_count": 4,
   "id": "64c91191",
   "metadata": {
    "id": "64c91191"
   },
   "outputs": [],
   "source": [
    "#Функция визуализации количественных данных\n",
    "def eda_quantity(data, bins_num):\n",
    "    quantity_columns = data.select_dtypes(include = ['int64', 'int32', 'int8', 'float64', 'float32']).columns.to_list()\n",
    "    #num_plots = len(quantity_columns)\n",
    "\n",
    "    #plt.figure(figsize=(20, 10 * num_plots))\n",
    "    plt.rcParams ['figure.figsize'] = [15, 8]\n",
    "\n",
    "    for c in quantity_columns:\n",
    "        print(f'Статистический анализ столбца: {c}')\n",
    "        print(data[c].describe().round(2))\n",
    "\n",
    "        f, (ax_hist, ax_box) = plt.subplots(1, 2)\n",
    "\n",
    "        sns.histplot(data=data, x=c, bins=bins_num, ax=ax_hist)\n",
    "        ax_hist.set(xlabel=c, ylabel='Количество', title=f'Гистограмма для {c}')\n",
    "\n",
    "        sns.boxplot(y=data[c], ax=ax_box)\n",
    "        ax_box.set(ylabel=c, title=f'Ящик с усами для {c}')\n",
    "\n",
    "        plt.show();"
   ]
  },
  {
   "cell_type": "code",
   "execution_count": 5,
   "id": "ac610eca",
   "metadata": {
    "id": "ac610eca"
   },
   "outputs": [],
   "source": [
    "#Функция визуализации категориальных переменных\n",
    "def eda_quality(data):\n",
    "    quality_columns = data.select_dtypes(include = 'object').columns.to_list()\n",
    "    num_plots = len(quality_columns)\n",
    "    plt.figure(figsize=(10, 5))\n",
    "\n",
    "    for c in quality_columns:\n",
    "        data_temp = data.groupby([c])[c].agg(['count']).sort_values(by='count')\n",
    "        data_temp['percent'] = data_temp['count'] / data_temp['count'].sum()\n",
    "        data_temp.columns = {'Количество':'count', 'Доля':'percent'}\n",
    "        print(f'Значения столбца {c} \\n {data_temp} \\n')\n",
    "        print(f'Статистический анализ столбца {c} \\n', data_temp.describe())\n",
    "\n",
    "        sns.barplot(x=data_temp['Количество'].values, y=data_temp.index)\n",
    "        plt.gca().set(xlabel='количество', ylabel=f'${c}$')\n",
    "        plt.title(f'{c}')\n",
    "        plt.show()"
   ]
  },
  {
   "cell_type": "code",
   "execution_count": 6,
   "id": "5761e580",
   "metadata": {
    "id": "5761e580"
   },
   "outputs": [],
   "source": [
    "#функция визуализации корреляции признаков\n",
    "def corr_matrix(data):\n",
    "    interval_cols = data.select_dtypes(include=['number']).columns\n",
    "    phik_overview = phik_matrix(data, interval_cols=interval_cols)\n",
    "    plot_correlation_matrix(\n",
    "        phik_overview.values,\n",
    "        x_labels=phik_overview.columns,\n",
    "        y_labels=phik_overview.index,\n",
    "        vmin=0, vmax=1, color_map='Greens',\n",
    "        title=r'correlation $\\phi_K$',\n",
    "        fontsize_factor=1,\n",
    "        figsize=(10, 8)\n",
    "    )"
   ]
  },
  {
   "cell_type": "code",
   "execution_count": 7,
   "id": "ec0c5065",
   "metadata": {
    "id": "ec0c5065"
   },
   "outputs": [],
   "source": [
    "# Оптимизация числовых типов данных\n",
    "def optimize_memory_usage(df: pd.DataFrame, print_size: bool=True) -> pd.DataFrame:\n",
    "    '''\n",
    "    Function optimizes memory usage in dataframe\n",
    "    df: pd.DataFrame - data table\n",
    "    print_size: bool - display of optimization results\n",
    "    return pd.DataFrame - amount of optimized memory\n",
    "    '''\n",
    "    numerics = ['int16', 'int32', 'int64', 'float16', 'float32', 'float64'] # Типы, которые будем проверять на оптимизацию\n",
    "    # Размер занимаемой памяти до оптимизации (в Мб)\n",
    "    before_size = df.memory_usage().sum() / 1024**2\n",
    "    for column in df.columns:\n",
    "        column_type = df[column].dtypes\n",
    "        if column_type in numerics:\n",
    "            column_min = df[column].min()\n",
    "            column_max = df[column].max()\n",
    "            if str(column_type).startswith('int'):\n",
    "                if column_min > np.iinfo(np.int8).min and column_max < np.iinfo(np.int8).max:\n",
    "                    df[column] = df[column].astype(np.int8)\n",
    "                elif column_min > np.iinfo(np.int16).min and column_max < np.iinfo(np.int16).max:\n",
    "                    df[column] = df[column].astype(np.int16)\n",
    "                elif column_min > np.iinfo(np.int32).min and column_max < np.iinfo(np.int32).max:\n",
    "                    df[column] = df[column].astype(np.int32)\n",
    "                elif column_min > np.iinfo(np.int64).min and column_max < np.iinfo(np.int64).max:\n",
    "                    df[column] = df[column].astype(np.int64)\n",
    "            else:\n",
    "                if column_min > np.finfo(np.float32).min and column_max < np.finfo(np.float32).max:\n",
    "                    df[column] = df[column].astype(np.float32)\n",
    "                else:\n",
    "                    df[column] = df[column].astype(np.float64)\n",
    "    # Размер занимаемой памяти после оптимизации (в Мб)\n",
    "    after_size = df.memory_usage().sum() / 1024**2\n",
    "    if print_size: print('Размер использования памяти: до {:5.2f} Mb - после {:5.2f} Mb ({:.1f}%)'\n",
    "                         .format(before_size, after_size, 100 * (before_size - after_size) / before_size))\n",
    "    return df"
   ]
  },
  {
   "cell_type": "code",
   "execution_count": 8,
   "id": "11dac906",
   "metadata": {
    "id": "11dac906"
   },
   "outputs": [],
   "source": [
    "path1 = \"C:/Users/User/Desktop/STD_M2_purchase_in_90_days/filtered_data/apparel-messages.csv\"\n",
    "path2 = \"C:/Users/User/Desktop/STD_M2_purchase_in_90_days/filtered_data/apparel-purchases.csv\"\n",
    "path3 = \"C:/Users/User/Desktop/STD_M2_purchase_in_90_days/filtered_data/apparel-target_binary.csv\"\n",
    "\n",
    "messages = pd.read_csv(path1)\n",
    "purchases = pd.read_csv(path2)\n",
    "target = pd.read_csv(path3)"
   ]
  },
  {
   "cell_type": "code",
   "execution_count": 9,
   "id": "bb00b254",
   "metadata": {
    "colab": {
     "base_uri": "https://localhost:8080/",
     "height": 649
    },
    "id": "bb00b254",
    "outputId": "3248820c-b44a-4ed5-cdf1-77b23cf07d0f",
    "scrolled": true
   },
   "outputs": [
    {
     "name": "stdout",
     "output_type": "stream",
     "text": [
      "Размер фрейма (12739798, 7) \n",
      "\n",
      "Первые пять строк таблицы\n"
     ]
    },
    {
     "data": {
      "text/html": [
       "<div>\n",
       "<style scoped>\n",
       "    .dataframe tbody tr th:only-of-type {\n",
       "        vertical-align: middle;\n",
       "    }\n",
       "\n",
       "    .dataframe tbody tr th {\n",
       "        vertical-align: top;\n",
       "    }\n",
       "\n",
       "    .dataframe thead th {\n",
       "        text-align: right;\n",
       "    }\n",
       "</style>\n",
       "<table border=\"1\" class=\"dataframe\">\n",
       "  <thead>\n",
       "    <tr style=\"text-align: right;\">\n",
       "      <th></th>\n",
       "      <th>bulk_campaign_id</th>\n",
       "      <th>client_id</th>\n",
       "      <th>message_id</th>\n",
       "      <th>event</th>\n",
       "      <th>channel</th>\n",
       "      <th>date</th>\n",
       "      <th>created_at</th>\n",
       "    </tr>\n",
       "  </thead>\n",
       "  <tbody>\n",
       "    <tr>\n",
       "      <th>0</th>\n",
       "      <td>4439</td>\n",
       "      <td>1515915625626736623</td>\n",
       "      <td>1515915625626736623-4439-6283415ac07ea</td>\n",
       "      <td>open</td>\n",
       "      <td>email</td>\n",
       "      <td>2022-05-19</td>\n",
       "      <td>2022-05-19 00:14:20</td>\n",
       "    </tr>\n",
       "    <tr>\n",
       "      <th>1</th>\n",
       "      <td>4439</td>\n",
       "      <td>1515915625490086521</td>\n",
       "      <td>1515915625490086521-4439-62834150016dd</td>\n",
       "      <td>open</td>\n",
       "      <td>email</td>\n",
       "      <td>2022-05-19</td>\n",
       "      <td>2022-05-19 00:39:34</td>\n",
       "    </tr>\n",
       "    <tr>\n",
       "      <th>2</th>\n",
       "      <td>4439</td>\n",
       "      <td>1515915625553578558</td>\n",
       "      <td>1515915625553578558-4439-6283415b36b4f</td>\n",
       "      <td>open</td>\n",
       "      <td>email</td>\n",
       "      <td>2022-05-19</td>\n",
       "      <td>2022-05-19 00:51:49</td>\n",
       "    </tr>\n",
       "    <tr>\n",
       "      <th>3</th>\n",
       "      <td>4439</td>\n",
       "      <td>1515915625553578558</td>\n",
       "      <td>1515915625553578558-4439-6283415b36b4f</td>\n",
       "      <td>click</td>\n",
       "      <td>email</td>\n",
       "      <td>2022-05-19</td>\n",
       "      <td>2022-05-19 00:52:20</td>\n",
       "    </tr>\n",
       "    <tr>\n",
       "      <th>4</th>\n",
       "      <td>4439</td>\n",
       "      <td>1515915625471518311</td>\n",
       "      <td>1515915625471518311-4439-628341570c133</td>\n",
       "      <td>open</td>\n",
       "      <td>email</td>\n",
       "      <td>2022-05-19</td>\n",
       "      <td>2022-05-19 00:56:52</td>\n",
       "    </tr>\n",
       "  </tbody>\n",
       "</table>\n",
       "</div>"
      ],
      "text/plain": [
       "   bulk_campaign_id            client_id  \\\n",
       "0              4439  1515915625626736623   \n",
       "1              4439  1515915625490086521   \n",
       "2              4439  1515915625553578558   \n",
       "3              4439  1515915625553578558   \n",
       "4              4439  1515915625471518311   \n",
       "\n",
       "                               message_id  event channel        date  \\\n",
       "0  1515915625626736623-4439-6283415ac07ea   open   email  2022-05-19   \n",
       "1  1515915625490086521-4439-62834150016dd   open   email  2022-05-19   \n",
       "2  1515915625553578558-4439-6283415b36b4f   open   email  2022-05-19   \n",
       "3  1515915625553578558-4439-6283415b36b4f  click   email  2022-05-19   \n",
       "4  1515915625471518311-4439-628341570c133   open   email  2022-05-19   \n",
       "\n",
       "            created_at  \n",
       "0  2022-05-19 00:14:20  \n",
       "1  2022-05-19 00:39:34  \n",
       "2  2022-05-19 00:51:49  \n",
       "3  2022-05-19 00:52:20  \n",
       "4  2022-05-19 00:56:52  "
      ]
     },
     "metadata": {},
     "output_type": "display_data"
    },
    {
     "name": "stdout",
     "output_type": "stream",
     "text": [
      "\n",
      " Основная информация о файле\n",
      "<class 'pandas.core.frame.DataFrame'>\n",
      "RangeIndex: 12739798 entries, 0 to 12739797\n",
      "Data columns (total 7 columns):\n",
      " #   Column            Dtype \n",
      "---  ------            ----- \n",
      " 0   bulk_campaign_id  int64 \n",
      " 1   client_id         int64 \n",
      " 2   message_id        object\n",
      " 3   event             object\n",
      " 4   channel           object\n",
      " 5   date              object\n",
      " 6   created_at        object\n",
      "dtypes: int64(2), object(5)\n",
      "memory usage: 680.4+ MB\n",
      "None\n"
     ]
    }
   ],
   "source": [
    "information(messages)"
   ]
  },
  {
   "cell_type": "markdown",
   "id": "26a82a63",
   "metadata": {
    "id": "26a82a63"
   },
   "source": [
    "Данный датафрейм содержит информацию о маркетинговых рассылках пользователям магазина, мы видим неверные типы в столбцах date, created_at - их заменим на datetime"
   ]
  },
  {
   "cell_type": "code",
   "execution_count": 10,
   "id": "81dfc0f3",
   "metadata": {
    "colab": {
     "base_uri": "https://localhost:8080/"
    },
    "id": "81dfc0f3",
    "outputId": "8337e3af-13cb-4257-b801-d7f1969c29a9",
    "scrolled": true
   },
   "outputs": [
    {
     "name": "stdout",
     "output_type": "stream",
     "text": [
      "<class 'pandas.core.frame.DataFrame'>\n",
      "RangeIndex: 12739798 entries, 0 to 12739797\n",
      "Data columns (total 7 columns):\n",
      " #   Column            Dtype         \n",
      "---  ------            -----         \n",
      " 0   bulk_campaign_id  int64         \n",
      " 1   client_id         int64         \n",
      " 2   message_id        object        \n",
      " 3   event             object        \n",
      " 4   channel           object        \n",
      " 5   date              datetime64[ns]\n",
      " 6   created_at        datetime64[ns]\n",
      "dtypes: datetime64[ns](2), int64(2), object(3)\n",
      "memory usage: 680.4+ MB\n"
     ]
    }
   ],
   "source": [
    "messages['date'] = pd.to_datetime(messages['date'])\n",
    "messages['created_at'] =  pd.to_datetime(messages['created_at'])\n",
    "messages.info()"
   ]
  },
  {
   "cell_type": "code",
   "execution_count": 11,
   "id": "4c690082",
   "metadata": {
    "colab": {
     "base_uri": "https://localhost:8080/",
     "height": 309
    },
    "id": "4c690082",
    "outputId": "b3dbc414-c72b-43fe-d6e2-0626500b1103"
   },
   "outputs": [
    {
     "data": {
      "text/html": [
       "<div>\n",
       "<style scoped>\n",
       "    .dataframe tbody tr th:only-of-type {\n",
       "        vertical-align: middle;\n",
       "    }\n",
       "\n",
       "    .dataframe tbody tr th {\n",
       "        vertical-align: top;\n",
       "    }\n",
       "\n",
       "    .dataframe thead th {\n",
       "        text-align: right;\n",
       "    }\n",
       "</style>\n",
       "<table border=\"1\" class=\"dataframe\">\n",
       "  <thead>\n",
       "    <tr style=\"text-align: right;\">\n",
       "      <th></th>\n",
       "      <th>bulk_campaign_id</th>\n",
       "      <th>client_id</th>\n",
       "      <th>message_id</th>\n",
       "      <th>event</th>\n",
       "      <th>channel</th>\n",
       "      <th>date</th>\n",
       "      <th>created_at</th>\n",
       "    </tr>\n",
       "  </thead>\n",
       "  <tbody>\n",
       "    <tr>\n",
       "      <th>0</th>\n",
       "      <td>4439</td>\n",
       "      <td>1515915625626736623</td>\n",
       "      <td>1515915625626736623-4439-6283415ac07ea</td>\n",
       "      <td>open</td>\n",
       "      <td>email</td>\n",
       "      <td>2022-05-19</td>\n",
       "      <td>2022-05-19 00:14:20</td>\n",
       "    </tr>\n",
       "    <tr>\n",
       "      <th>1</th>\n",
       "      <td>4439</td>\n",
       "      <td>1515915625490086521</td>\n",
       "      <td>1515915625490086521-4439-62834150016dd</td>\n",
       "      <td>open</td>\n",
       "      <td>email</td>\n",
       "      <td>2022-05-19</td>\n",
       "      <td>2022-05-19 00:39:34</td>\n",
       "    </tr>\n",
       "    <tr>\n",
       "      <th>2</th>\n",
       "      <td>4439</td>\n",
       "      <td>1515915625553578558</td>\n",
       "      <td>1515915625553578558-4439-6283415b36b4f</td>\n",
       "      <td>open</td>\n",
       "      <td>email</td>\n",
       "      <td>2022-05-19</td>\n",
       "      <td>2022-05-19 00:51:49</td>\n",
       "    </tr>\n",
       "    <tr>\n",
       "      <th>3</th>\n",
       "      <td>4439</td>\n",
       "      <td>1515915625553578558</td>\n",
       "      <td>1515915625553578558-4439-6283415b36b4f</td>\n",
       "      <td>click</td>\n",
       "      <td>email</td>\n",
       "      <td>2022-05-19</td>\n",
       "      <td>2022-05-19 00:52:20</td>\n",
       "    </tr>\n",
       "    <tr>\n",
       "      <th>4</th>\n",
       "      <td>4439</td>\n",
       "      <td>1515915625471518311</td>\n",
       "      <td>1515915625471518311-4439-628341570c133</td>\n",
       "      <td>open</td>\n",
       "      <td>email</td>\n",
       "      <td>2022-05-19</td>\n",
       "      <td>2022-05-19 00:56:52</td>\n",
       "    </tr>\n",
       "  </tbody>\n",
       "</table>\n",
       "</div>"
      ],
      "text/plain": [
       "   bulk_campaign_id            client_id  \\\n",
       "0              4439  1515915625626736623   \n",
       "1              4439  1515915625490086521   \n",
       "2              4439  1515915625553578558   \n",
       "3              4439  1515915625553578558   \n",
       "4              4439  1515915625471518311   \n",
       "\n",
       "                               message_id  event channel       date  \\\n",
       "0  1515915625626736623-4439-6283415ac07ea   open   email 2022-05-19   \n",
       "1  1515915625490086521-4439-62834150016dd   open   email 2022-05-19   \n",
       "2  1515915625553578558-4439-6283415b36b4f   open   email 2022-05-19   \n",
       "3  1515915625553578558-4439-6283415b36b4f  click   email 2022-05-19   \n",
       "4  1515915625471518311-4439-628341570c133   open   email 2022-05-19   \n",
       "\n",
       "           created_at  \n",
       "0 2022-05-19 00:14:20  \n",
       "1 2022-05-19 00:39:34  \n",
       "2 2022-05-19 00:51:49  \n",
       "3 2022-05-19 00:52:20  \n",
       "4 2022-05-19 00:56:52  "
      ]
     },
     "execution_count": 11,
     "metadata": {},
     "output_type": "execute_result"
    }
   ],
   "source": [
    "messages.head()"
   ]
  },
  {
   "cell_type": "code",
   "execution_count": 12,
   "id": "188fb6a4",
   "metadata": {
    "colab": {
     "base_uri": "https://localhost:8080/",
     "height": 612
    },
    "id": "188fb6a4",
    "outputId": "95c8d5d5-45be-4d24-e929-c999abecfbef",
    "scrolled": false
   },
   "outputs": [
    {
     "name": "stdout",
     "output_type": "stream",
     "text": [
      "Размер фрейма (202208, 6) \n",
      "\n",
      "Первые пять строк таблицы\n"
     ]
    },
    {
     "data": {
      "text/html": [
       "<div>\n",
       "<style scoped>\n",
       "    .dataframe tbody tr th:only-of-type {\n",
       "        vertical-align: middle;\n",
       "    }\n",
       "\n",
       "    .dataframe tbody tr th {\n",
       "        vertical-align: top;\n",
       "    }\n",
       "\n",
       "    .dataframe thead th {\n",
       "        text-align: right;\n",
       "    }\n",
       "</style>\n",
       "<table border=\"1\" class=\"dataframe\">\n",
       "  <thead>\n",
       "    <tr style=\"text-align: right;\">\n",
       "      <th></th>\n",
       "      <th>client_id</th>\n",
       "      <th>quantity</th>\n",
       "      <th>price</th>\n",
       "      <th>category_ids</th>\n",
       "      <th>date</th>\n",
       "      <th>message_id</th>\n",
       "    </tr>\n",
       "  </thead>\n",
       "  <tbody>\n",
       "    <tr>\n",
       "      <th>0</th>\n",
       "      <td>1515915625468169594</td>\n",
       "      <td>1</td>\n",
       "      <td>1999.0</td>\n",
       "      <td>['4', '28', '57', '431']</td>\n",
       "      <td>2022-05-16</td>\n",
       "      <td>1515915625468169594-4301-627b661e9736d</td>\n",
       "    </tr>\n",
       "    <tr>\n",
       "      <th>1</th>\n",
       "      <td>1515915625468169594</td>\n",
       "      <td>1</td>\n",
       "      <td>2499.0</td>\n",
       "      <td>['4', '28', '57', '431']</td>\n",
       "      <td>2022-05-16</td>\n",
       "      <td>1515915625468169594-4301-627b661e9736d</td>\n",
       "    </tr>\n",
       "    <tr>\n",
       "      <th>2</th>\n",
       "      <td>1515915625471138230</td>\n",
       "      <td>1</td>\n",
       "      <td>6499.0</td>\n",
       "      <td>['4', '28', '57', '431']</td>\n",
       "      <td>2022-05-16</td>\n",
       "      <td>1515915625471138230-4437-6282242f27843</td>\n",
       "    </tr>\n",
       "    <tr>\n",
       "      <th>3</th>\n",
       "      <td>1515915625471138230</td>\n",
       "      <td>1</td>\n",
       "      <td>4999.0</td>\n",
       "      <td>['4', '28', '244', '432']</td>\n",
       "      <td>2022-05-16</td>\n",
       "      <td>1515915625471138230-4437-6282242f27843</td>\n",
       "    </tr>\n",
       "    <tr>\n",
       "      <th>4</th>\n",
       "      <td>1515915625471138230</td>\n",
       "      <td>1</td>\n",
       "      <td>4999.0</td>\n",
       "      <td>['4', '28', '49', '413']</td>\n",
       "      <td>2022-05-16</td>\n",
       "      <td>1515915625471138230-4437-6282242f27843</td>\n",
       "    </tr>\n",
       "  </tbody>\n",
       "</table>\n",
       "</div>"
      ],
      "text/plain": [
       "             client_id  quantity   price               category_ids  \\\n",
       "0  1515915625468169594         1  1999.0   ['4', '28', '57', '431']   \n",
       "1  1515915625468169594         1  2499.0   ['4', '28', '57', '431']   \n",
       "2  1515915625471138230         1  6499.0   ['4', '28', '57', '431']   \n",
       "3  1515915625471138230         1  4999.0  ['4', '28', '244', '432']   \n",
       "4  1515915625471138230         1  4999.0   ['4', '28', '49', '413']   \n",
       "\n",
       "         date                              message_id  \n",
       "0  2022-05-16  1515915625468169594-4301-627b661e9736d  \n",
       "1  2022-05-16  1515915625468169594-4301-627b661e9736d  \n",
       "2  2022-05-16  1515915625471138230-4437-6282242f27843  \n",
       "3  2022-05-16  1515915625471138230-4437-6282242f27843  \n",
       "4  2022-05-16  1515915625471138230-4437-6282242f27843  "
      ]
     },
     "metadata": {},
     "output_type": "display_data"
    },
    {
     "name": "stdout",
     "output_type": "stream",
     "text": [
      "\n",
      " Основная информация о файле\n",
      "<class 'pandas.core.frame.DataFrame'>\n",
      "RangeIndex: 202208 entries, 0 to 202207\n",
      "Data columns (total 6 columns):\n",
      " #   Column        Non-Null Count   Dtype  \n",
      "---  ------        --------------   -----  \n",
      " 0   client_id     202208 non-null  int64  \n",
      " 1   quantity      202208 non-null  int64  \n",
      " 2   price         202208 non-null  float64\n",
      " 3   category_ids  202208 non-null  object \n",
      " 4   date          202208 non-null  object \n",
      " 5   message_id    202208 non-null  object \n",
      "dtypes: float64(1), int64(2), object(3)\n",
      "memory usage: 9.3+ MB\n",
      "None\n"
     ]
    }
   ],
   "source": [
    "information(purchases)"
   ]
  },
  {
   "cell_type": "markdown",
   "id": "b6cd26e7",
   "metadata": {
    "id": "b6cd26e7"
   },
   "source": [
    "Данный датасет содержит информацию о покупках, в нем также есть неверный формат даты"
   ]
  },
  {
   "cell_type": "code",
   "execution_count": 13,
   "id": "1fb1dd90",
   "metadata": {
    "colab": {
     "base_uri": "https://localhost:8080/"
    },
    "id": "1fb1dd90",
    "outputId": "462601b2-c9a1-4c6e-d47b-5ccb69615fbb"
   },
   "outputs": [
    {
     "name": "stdout",
     "output_type": "stream",
     "text": [
      "<class 'pandas.core.frame.DataFrame'>\n",
      "RangeIndex: 202208 entries, 0 to 202207\n",
      "Data columns (total 6 columns):\n",
      " #   Column        Non-Null Count   Dtype         \n",
      "---  ------        --------------   -----         \n",
      " 0   client_id     202208 non-null  int64         \n",
      " 1   quantity      202208 non-null  int64         \n",
      " 2   price         202208 non-null  float64       \n",
      " 3   category_ids  202208 non-null  object        \n",
      " 4   date          202208 non-null  datetime64[ns]\n",
      " 5   message_id    202208 non-null  object        \n",
      "dtypes: datetime64[ns](1), float64(1), int64(2), object(2)\n",
      "memory usage: 9.3+ MB\n"
     ]
    }
   ],
   "source": [
    "purchases['date'] = pd.to_datetime(purchases['date'])\n",
    "purchases.info()"
   ]
  },
  {
   "cell_type": "code",
   "execution_count": 14,
   "id": "9ec1d5c2",
   "metadata": {
    "colab": {
     "base_uri": "https://localhost:8080/",
     "height": 459
    },
    "id": "9ec1d5c2",
    "outputId": "33249126-14ba-4dde-f782-14fe414cde6b"
   },
   "outputs": [
    {
     "name": "stdout",
     "output_type": "stream",
     "text": [
      "Размер фрейма (49849, 2) \n",
      "\n",
      "Первые пять строк таблицы\n"
     ]
    },
    {
     "data": {
      "text/html": [
       "<div>\n",
       "<style scoped>\n",
       "    .dataframe tbody tr th:only-of-type {\n",
       "        vertical-align: middle;\n",
       "    }\n",
       "\n",
       "    .dataframe tbody tr th {\n",
       "        vertical-align: top;\n",
       "    }\n",
       "\n",
       "    .dataframe thead th {\n",
       "        text-align: right;\n",
       "    }\n",
       "</style>\n",
       "<table border=\"1\" class=\"dataframe\">\n",
       "  <thead>\n",
       "    <tr style=\"text-align: right;\">\n",
       "      <th></th>\n",
       "      <th>client_id</th>\n",
       "      <th>target</th>\n",
       "    </tr>\n",
       "  </thead>\n",
       "  <tbody>\n",
       "    <tr>\n",
       "      <th>0</th>\n",
       "      <td>1515915625468060902</td>\n",
       "      <td>0</td>\n",
       "    </tr>\n",
       "    <tr>\n",
       "      <th>1</th>\n",
       "      <td>1515915625468061003</td>\n",
       "      <td>1</td>\n",
       "    </tr>\n",
       "    <tr>\n",
       "      <th>2</th>\n",
       "      <td>1515915625468061099</td>\n",
       "      <td>0</td>\n",
       "    </tr>\n",
       "    <tr>\n",
       "      <th>3</th>\n",
       "      <td>1515915625468061100</td>\n",
       "      <td>0</td>\n",
       "    </tr>\n",
       "    <tr>\n",
       "      <th>4</th>\n",
       "      <td>1515915625468061170</td>\n",
       "      <td>0</td>\n",
       "    </tr>\n",
       "  </tbody>\n",
       "</table>\n",
       "</div>"
      ],
      "text/plain": [
       "             client_id  target\n",
       "0  1515915625468060902       0\n",
       "1  1515915625468061003       1\n",
       "2  1515915625468061099       0\n",
       "3  1515915625468061100       0\n",
       "4  1515915625468061170       0"
      ]
     },
     "metadata": {},
     "output_type": "display_data"
    },
    {
     "name": "stdout",
     "output_type": "stream",
     "text": [
      "\n",
      " Основная информация о файле\n",
      "<class 'pandas.core.frame.DataFrame'>\n",
      "RangeIndex: 49849 entries, 0 to 49848\n",
      "Data columns (total 2 columns):\n",
      " #   Column     Non-Null Count  Dtype\n",
      "---  ------     --------------  -----\n",
      " 0   client_id  49849 non-null  int64\n",
      " 1   target     49849 non-null  int64\n",
      "dtypes: int64(2)\n",
      "memory usage: 779.0 KB\n",
      "None\n"
     ]
    }
   ],
   "source": [
    "information(target)"
   ]
  },
  {
   "cell_type": "markdown",
   "id": "f8a6b0e2",
   "metadata": {
    "id": "f8a6b0e2"
   },
   "source": [
    "Оптимизируем числовые типы данных"
   ]
  },
  {
   "cell_type": "code",
   "execution_count": 15,
   "id": "456a9076",
   "metadata": {
    "colab": {
     "base_uri": "https://localhost:8080/"
    },
    "id": "456a9076",
    "outputId": "c6f7c853-bbc4-4703-ceaa-107d1f19de07"
   },
   "outputs": [
    {
     "name": "stdout",
     "output_type": "stream",
     "text": [
      "Размер использования памяти: до 680.38 Mb - после 607.48 Mb (10.7%)\n",
      "Размер использования памяти: до  9.26 Mb - после  7.14 Mb (22.9%)\n",
      "Размер использования памяти: до  0.76 Mb - после  0.43 Mb (43.7%)\n"
     ]
    }
   ],
   "source": [
    "messages = optimize_memory_usage(messages)\n",
    "purchases = optimize_memory_usage(purchases)\n",
    "target = optimize_memory_usage(target)"
   ]
  },
  {
   "cell_type": "markdown",
   "id": "62f00e2f",
   "metadata": {
    "id": "62f00e2f"
   },
   "source": [
    "<b>Вывод</b>\n",
    "<br>На данном шаге были загружены и предварительно изучены три датасета: messages, purchases, target\n",
    "<br>messages содержит 12739798 строк и 7 столбцов, названия столбцов в змеином регистре, типы данных не все верны - date, created_at были приведены к типу datetime\n",
    "<br>purchases содержит 202208 строк и 6 столбцов, названия столбцов соответствуют змеиному регистру, столбец date приведен к типу datetime.\n",
    "<br>target - целевой датасет, содержащий 49849 строк и 2 столбца, типы данных определены верно\n",
    "<br> Оптимизированы числовые типы данных для более быстрой работы\n",
    "<br>Перейдем к этапу предобработки данных"
   ]
  },
  {
   "cell_type": "markdown",
   "id": "225b293d",
   "metadata": {
    "id": "225b293d"
   },
   "source": [
    "## Шаг 2. Предобработка данных"
   ]
  },
  {
   "cell_type": "markdown",
   "id": "604f8903",
   "metadata": {
    "id": "604f8903"
   },
   "source": [
    "Проверим таблицы на наличие пропусков и явных дубликатов"
   ]
  },
  {
   "cell_type": "code",
   "execution_count": 16,
   "id": "fa4fb8a9",
   "metadata": {
    "colab": {
     "base_uri": "https://localhost:8080/",
     "height": 300
    },
    "id": "fa4fb8a9",
    "outputId": "40fba023-a396-4e91-fa85-15bc5e129080"
   },
   "outputs": [
    {
     "data": {
      "text/plain": [
       "bulk_campaign_id    0\n",
       "client_id           0\n",
       "message_id          0\n",
       "event               0\n",
       "channel             0\n",
       "date                0\n",
       "created_at          0\n",
       "dtype: int64"
      ]
     },
     "execution_count": 16,
     "metadata": {},
     "output_type": "execute_result"
    }
   ],
   "source": [
    "messages.isna().sum()"
   ]
  },
  {
   "cell_type": "markdown",
   "id": "cd847a1f",
   "metadata": {
    "id": "cd847a1f"
   },
   "source": [
    "Пропусков нет, посмотрим дубликаты"
   ]
  },
  {
   "cell_type": "code",
   "execution_count": 17,
   "id": "a9be2280",
   "metadata": {
    "colab": {
     "base_uri": "https://localhost:8080/"
    },
    "id": "a9be2280",
    "outputId": "8e549f0b-6784-4a76-df22-db6dee3f0c24"
   },
   "outputs": [
    {
     "data": {
      "text/plain": [
       "48610"
      ]
     },
     "execution_count": 17,
     "metadata": {},
     "output_type": "execute_result"
    }
   ],
   "source": [
    "messages.duplicated().sum()"
   ]
  },
  {
   "cell_type": "markdown",
   "id": "decb49df",
   "metadata": {
    "id": "decb49df"
   },
   "source": [
    "Таблица содержит 48610 строк c явными дубликатами, удалим их"
   ]
  },
  {
   "cell_type": "code",
   "execution_count": 18,
   "id": "fe71a2d7",
   "metadata": {
    "colab": {
     "base_uri": "https://localhost:8080/"
    },
    "id": "fe71a2d7",
    "outputId": "087f240e-9fa6-4aaf-b81e-99de4fab74ac"
   },
   "outputs": [
    {
     "data": {
      "text/plain": [
       "0"
      ]
     },
     "execution_count": 18,
     "metadata": {},
     "output_type": "execute_result"
    }
   ],
   "source": [
    "messages = messages.drop_duplicates()\n",
    "messages.duplicated().sum()"
   ]
  },
  {
   "cell_type": "code",
   "execution_count": 19,
   "id": "15650d60",
   "metadata": {
    "colab": {
     "base_uri": "https://localhost:8080/",
     "height": 269
    },
    "id": "15650d60",
    "outputId": "a8318c3d-28fe-4eaf-8537-5a826fef4157"
   },
   "outputs": [
    {
     "data": {
      "text/plain": [
       "client_id       0\n",
       "quantity        0\n",
       "price           0\n",
       "category_ids    0\n",
       "date            0\n",
       "message_id      0\n",
       "dtype: int64"
      ]
     },
     "execution_count": 19,
     "metadata": {},
     "output_type": "execute_result"
    }
   ],
   "source": [
    "purchases.isna().sum()"
   ]
  },
  {
   "cell_type": "code",
   "execution_count": 20,
   "id": "92dbd009",
   "metadata": {
    "colab": {
     "base_uri": "https://localhost:8080/"
    },
    "id": "92dbd009",
    "outputId": "0fda9201-767e-4085-cb9f-e2d5abb54b0d"
   },
   "outputs": [
    {
     "data": {
      "text/plain": [
       "73020"
      ]
     },
     "execution_count": 20,
     "metadata": {},
     "output_type": "execute_result"
    }
   ],
   "source": [
    "purchases.duplicated().sum()"
   ]
  },
  {
   "cell_type": "markdown",
   "id": "d2b27224",
   "metadata": {
    "id": "d2b27224"
   },
   "source": [
    "Здесь мы видим большое количество полностью повторяющихся строк, удалим их"
   ]
  },
  {
   "cell_type": "code",
   "execution_count": 21,
   "id": "56dda8d2",
   "metadata": {
    "colab": {
     "base_uri": "https://localhost:8080/"
    },
    "id": "56dda8d2",
    "outputId": "b8951133-8bf5-455e-dd1c-fec9ab138ecf"
   },
   "outputs": [
    {
     "data": {
      "text/plain": [
       "0"
      ]
     },
     "execution_count": 21,
     "metadata": {},
     "output_type": "execute_result"
    }
   ],
   "source": [
    "purchases = purchases.drop_duplicates()\n",
    "purchases.duplicated().sum()"
   ]
  },
  {
   "cell_type": "markdown",
   "id": "adb0c421",
   "metadata": {
    "id": "adb0c421"
   },
   "source": [
    "Теперь проверим, все ли строки датасетов содержат одни и те же id клиентов что и целевой признак"
   ]
  },
  {
   "cell_type": "code",
   "execution_count": 22,
   "id": "d7e4e548",
   "metadata": {
    "colab": {
     "base_uri": "https://localhost:8080/",
     "height": 176
    },
    "id": "d7e4e548",
    "outputId": "07f9784e-43ef-428f-bd6f-80653ebc25a5"
   },
   "outputs": [
    {
     "data": {
      "text/plain": [
       "client_id\n",
       "True     10913197\n",
       "False     1777991\n",
       "Name: count, dtype: int64"
      ]
     },
     "execution_count": 22,
     "metadata": {},
     "output_type": "execute_result"
    }
   ],
   "source": [
    "messages['client_id'].isin(target['client_id']).value_counts()"
   ]
  },
  {
   "cell_type": "markdown",
   "id": "7b58eb2b",
   "metadata": {
    "id": "7b58eb2b"
   },
   "source": [
    "Мы видим, что в messages присутствуют \"лишние\" идентификаторы клиентов - те, что отсутствуют в таргете и не понадобятся нам для дальнейшего анализа, поэтому удалим их"
   ]
  },
  {
   "cell_type": "code",
   "execution_count": 23,
   "id": "d3909493",
   "metadata": {
    "colab": {
     "base_uri": "https://localhost:8080/",
     "height": 145
    },
    "id": "d3909493",
    "outputId": "bd0a3637-d9d3-44a2-c226-121477885e1e"
   },
   "outputs": [
    {
     "data": {
      "text/plain": [
       "client_id\n",
       "True    10913197\n",
       "Name: count, dtype: int64"
      ]
     },
     "execution_count": 23,
     "metadata": {},
     "output_type": "execute_result"
    }
   ],
   "source": [
    "messages = messages[messages['client_id'].isin(target['client_id'])]\n",
    "messages['client_id'].isin(target['client_id']).value_counts()"
   ]
  },
  {
   "cell_type": "markdown",
   "id": "3680323b",
   "metadata": {
    "id": "3680323b"
   },
   "source": [
    "Выполним проверку для датасета purchases"
   ]
  },
  {
   "cell_type": "code",
   "execution_count": 24,
   "id": "5544bcac",
   "metadata": {
    "colab": {
     "base_uri": "https://localhost:8080/",
     "height": 145
    },
    "id": "5544bcac",
    "outputId": "619b2667-fc58-4314-d7ac-688caadc551f"
   },
   "outputs": [
    {
     "data": {
      "text/plain": [
       "client_id\n",
       "True    129188\n",
       "Name: count, dtype: int64"
      ]
     },
     "execution_count": 24,
     "metadata": {},
     "output_type": "execute_result"
    }
   ],
   "source": [
    "purchases['client_id'].isin(target['client_id']).value_counts()"
   ]
  },
  {
   "cell_type": "markdown",
   "id": "528cd4e7",
   "metadata": {
    "id": "528cd4e7"
   },
   "source": [
    "Здесь все в порядке, посмотрим есть ли неявные дубликаты в столбцах с типом данных object"
   ]
  },
  {
   "cell_type": "code",
   "execution_count": 25,
   "id": "380bd96b",
   "metadata": {
    "colab": {
     "base_uri": "https://localhost:8080/"
    },
    "id": "380bd96b",
    "outputId": "f2a32cd2-6ff3-4243-dae4-eecfcbef8c17"
   },
   "outputs": [
    {
     "data": {
      "text/plain": [
       "array(['open', 'click', 'purchase', 'send', 'unsubscribe', 'hbq_spam',\n",
       "       'hard_bounce', 'soft_bounce', 'subscribe', 'complain', 'close'],\n",
       "      dtype=object)"
      ]
     },
     "execution_count": 25,
     "metadata": {},
     "output_type": "execute_result"
    }
   ],
   "source": [
    "messages['event'].unique()"
   ]
  },
  {
   "cell_type": "code",
   "execution_count": 26,
   "id": "53c3e951",
   "metadata": {
    "colab": {
     "base_uri": "https://localhost:8080/"
    },
    "id": "53c3e951",
    "outputId": "752af3f9-a388-4908-c79e-074baf1df93f"
   },
   "outputs": [
    {
     "data": {
      "text/plain": [
       "array(['email', 'mobile_push'], dtype=object)"
      ]
     },
     "execution_count": 26,
     "metadata": {},
     "output_type": "execute_result"
    }
   ],
   "source": [
    "messages['channel'].unique()"
   ]
  },
  {
   "cell_type": "markdown",
   "id": "5c6a9de3",
   "metadata": {
    "id": "5c6a9de3"
   },
   "source": [
    "Посмотрим какой размер датафреймов получился"
   ]
  },
  {
   "cell_type": "code",
   "execution_count": 27,
   "id": "f7c08172",
   "metadata": {
    "colab": {
     "base_uri": "https://localhost:8080/"
    },
    "id": "f7c08172",
    "outputId": "9ad4ebc0-13e8-45a8-e328-2b186ee9c172"
   },
   "outputs": [
    {
     "data": {
      "text/plain": [
       "(10913197, 7)"
      ]
     },
     "execution_count": 27,
     "metadata": {},
     "output_type": "execute_result"
    }
   ],
   "source": [
    "messages.shape"
   ]
  },
  {
   "cell_type": "code",
   "execution_count": 28,
   "id": "cf10e981",
   "metadata": {
    "colab": {
     "base_uri": "https://localhost:8080/"
    },
    "id": "cf10e981",
    "outputId": "223935fc-4455-4cb1-d403-efc9c8d8aa19",
    "scrolled": true
   },
   "outputs": [
    {
     "data": {
      "text/plain": [
       "(129188, 6)"
      ]
     },
     "execution_count": 28,
     "metadata": {},
     "output_type": "execute_result"
    }
   ],
   "source": [
    "purchases.shape"
   ]
  },
  {
   "cell_type": "markdown",
   "id": "4bb0f8f8",
   "metadata": {
    "id": "4bb0f8f8"
   },
   "source": [
    "<b>Вывод по этапу предобработки данных</b>\n",
    "<br>На данном этапе мы совершили предобработку данных, избавились от явных дубликатов, неявных дубликатов обнаружено не было"
   ]
  },
  {
   "cell_type": "markdown",
   "id": "44b2660e",
   "metadata": {
    "id": "44b2660e"
   },
   "source": [
    "## Шаг 3. Исследовательский анализ данных"
   ]
  },
  {
   "cell_type": "markdown",
   "id": "a7f7d51a",
   "metadata": {
    "id": "a7f7d51a"
   },
   "source": [
    "Посмотрим, как распределены категориальные данные в датасете messages"
   ]
  },
  {
   "cell_type": "code",
   "execution_count": 29,
   "id": "c8cc7ac4",
   "metadata": {
    "colab": {
     "base_uri": "https://localhost:8080/",
     "height": 1000
    },
    "id": "c8cc7ac4",
    "outputId": "0c07e13a-d773-4d99-d607-d95bbe685c59"
   },
   "outputs": [
    {
     "name": "stdout",
     "output_type": "stream",
     "text": [
      "Значения столбца event \n",
      "              Количество          Доля\n",
      "event                                \n",
      "close                 1  9.163218e-08\n",
      "subscribe            76  6.964045e-06\n",
      "complain            495  4.535793e-05\n",
      "hbq_spam            760  6.964045e-05\n",
      "unsubscribe        2614  2.395265e-04\n",
      "soft_bounce        8915  8.169009e-04\n",
      "hard_bounce       16366  1.499652e-03\n",
      "purchase          55704  5.104279e-03\n",
      "click            443970  4.068194e-02\n",
      "open            2485299  2.277334e-01\n",
      "send            7898997  7.238023e-01 \n",
      "\n",
      "Статистический анализ столбца event \n",
      "          Количество          Доля\n",
      "count  1.100000e+01  1.100000e+01\n",
      "mean   9.921088e+05  9.090909e-02\n",
      "std    2.407163e+06  2.205736e-01\n",
      "min    1.000000e+00  9.163218e-08\n",
      "25%    6.275000e+02  5.749919e-05\n",
      "50%    8.915000e+03  8.169009e-04\n",
      "75%    2.498370e+05  2.289311e-02\n",
      "max    7.898997e+06  7.238023e-01\n"
     ]
    },
    {
     "data": {
      "image/png": "[encoded data removed]",
      "text/plain": [
       "<Figure size 1000x500 with 1 Axes>"
      ]
     },
     "metadata": {},
     "output_type": "display_data"
    },
    {
     "name": "stdout",
     "output_type": "stream",
     "text": [
      "Значения столбца channel \n",
      "              Количество      Доля\n",
      "channel                          \n",
      "email           4825108  0.442135\n",
      "mobile_push     6088089  0.557865 \n",
      "\n",
      "Статистический анализ столбца channel \n",
      "          Количество      Доля\n",
      "count  2.000000e+00  2.000000\n",
      "mean   5.456598e+06  0.500000\n",
      "std    8.930624e+05  0.081833\n",
      "min    4.825108e+06  0.442135\n",
      "25%    5.140853e+06  0.471068\n",
      "50%    5.456598e+06  0.500000\n",
      "75%    5.772344e+06  0.528932\n",
      "max    6.088089e+06  0.557865\n"
     ]
    },
    {
     "data": {
      "image/png": "[encoded data removed]",
      "text/plain": [
       "<Figure size 800x550 with 1 Axes>"
      ]
     },
     "metadata": {},
     "output_type": "display_data"
    }
   ],
   "source": [
    "columns = ['event', 'channel']\n",
    "messages_temp = messages[columns]\n",
    "eda_quality(messages_temp)"
   ]
  },
  {
   "cell_type": "markdown",
   "id": "4cab2e82",
   "metadata": {
    "id": "4cab2e82"
   },
   "source": [
    "В таблице messages мы видим множество событий. Самое распространенное - send, a purchase встречается в 141 раз меньше\n",
    "<br>в столбце channel у нас более чем в 3 раза превышает рассылка по email, чем push уведомления\n",
    "<br> Немного чаще рассылки проводятся с помощью push уведомлений"
   ]
  },
  {
   "cell_type": "markdown",
   "id": "a7bc1fde",
   "metadata": {
    "id": "a7bc1fde"
   },
   "source": [
    "В таблице purchases исследуем количественные переменные в столбцах price, quantity"
   ]
  },
  {
   "cell_type": "code",
   "execution_count": 30,
   "id": "2ac885eb",
   "metadata": {
    "colab": {
     "base_uri": "https://localhost:8080/",
     "height": 1000
    },
    "id": "2ac885eb",
    "outputId": "b0abd6fb-3fcf-4c26-e811-009eb1a6a142",
    "scrolled": true
   },
   "outputs": [
    {
     "name": "stdout",
     "output_type": "stream",
     "text": [
      "Статистический анализ столбца: quantity\n",
      "count    129188.00\n",
      "mean          1.01\n",
      "std           0.22\n",
      "min           1.00\n",
      "25%           1.00\n",
      "50%           1.00\n",
      "75%           1.00\n",
      "max          30.00\n",
      "Name: quantity, dtype: float64\n"
     ]
    },
    {
     "data": {
      "image/png": "[encoded data removed]",
      "text/plain": [
       "<Figure size 1500x800 with 2 Axes>"
      ]
     },
     "metadata": {},
     "output_type": "display_data"
    },
    {
     "name": "stdout",
     "output_type": "stream",
     "text": [
      "Статистический анализ столбца: price\n",
      "count    129188.00\n",
      "mean       1264.53\n",
      "std        1375.02\n",
      "min           1.00\n",
      "25%         399.00\n",
      "50%         999.00\n",
      "75%        1750.00\n",
      "max       85499.00\n",
      "Name: price, dtype: float64\n"
     ]
    },
    {
     "data": {
      "image/png": "[encoded data removed]",
      "text/plain": [
       "<Figure size 1500x800 with 2 Axes>"
      ]
     },
     "metadata": {},
     "output_type": "display_data"
    }
   ],
   "source": [
    "eda_quantity(purchases.drop('client_id', axis=1), 20)"
   ]
  },
  {
   "cell_type": "markdown",
   "id": "dc369fce",
   "metadata": {
    "id": "dc369fce"
   },
   "source": [
    "<b>Вывод</b>\n",
    "<br>В таблице messages мы видим множество событий. Самое распространенное - send, a purchase встречается в 141 раз меньше\n",
    "<br>в столбце channel у нас более чем в 3 раза превышает рассылка по email, чем push уведомления\n",
    "<br> Немного чаще рассылки проводятся с помощью push уведомлений\n",
    "<br> В таблице purchases в столбцах purchases и price мы видим аномалии, которые вполне могут быть, если клиент брал оптом те или иные товары, оставим все как есть без измнений"
   ]
  },
  {
   "cell_type": "markdown",
   "id": "b02a0d86",
   "metadata": {
    "id": "b02a0d86"
   },
   "source": [
    "## Шаг 4. Добавление новых признаков"
   ]
  },
  {
   "cell_type": "code",
   "execution_count": 31,
   "id": "f629c048",
   "metadata": {
    "colab": {
     "base_uri": "https://localhost:8080/",
     "height": 224
    },
    "id": "f629c048",
    "outputId": "521ac226-007d-4d8c-86af-2b193f9f1ebb"
   },
   "outputs": [
    {
     "data": {
      "text/html": [
       "<div>\n",
       "<style scoped>\n",
       "    .dataframe tbody tr th:only-of-type {\n",
       "        vertical-align: middle;\n",
       "    }\n",
       "\n",
       "    .dataframe tbody tr th {\n",
       "        vertical-align: top;\n",
       "    }\n",
       "\n",
       "    .dataframe thead th {\n",
       "        text-align: right;\n",
       "    }\n",
       "</style>\n",
       "<table border=\"1\" class=\"dataframe\">\n",
       "  <thead>\n",
       "    <tr style=\"text-align: right;\">\n",
       "      <th>event</th>\n",
       "      <th>client_id</th>\n",
       "      <th>click</th>\n",
       "      <th>close</th>\n",
       "      <th>complain</th>\n",
       "      <th>hard_bounce</th>\n",
       "      <th>hbq_spam</th>\n",
       "      <th>open</th>\n",
       "      <th>purchase</th>\n",
       "      <th>send</th>\n",
       "      <th>soft_bounce</th>\n",
       "      <th>subscribe</th>\n",
       "      <th>unsubscribe</th>\n",
       "    </tr>\n",
       "  </thead>\n",
       "  <tbody>\n",
       "    <tr>\n",
       "      <th>0</th>\n",
       "      <td>1515915625468060902</td>\n",
       "      <td>10</td>\n",
       "      <td>0</td>\n",
       "      <td>0</td>\n",
       "      <td>0</td>\n",
       "      <td>0</td>\n",
       "      <td>35</td>\n",
       "      <td>5</td>\n",
       "      <td>126</td>\n",
       "      <td>0</td>\n",
       "      <td>0</td>\n",
       "      <td>1</td>\n",
       "    </tr>\n",
       "    <tr>\n",
       "      <th>1</th>\n",
       "      <td>1515915625468061003</td>\n",
       "      <td>5</td>\n",
       "      <td>0</td>\n",
       "      <td>0</td>\n",
       "      <td>0</td>\n",
       "      <td>0</td>\n",
       "      <td>5</td>\n",
       "      <td>1</td>\n",
       "      <td>154</td>\n",
       "      <td>0</td>\n",
       "      <td>0</td>\n",
       "      <td>0</td>\n",
       "    </tr>\n",
       "    <tr>\n",
       "      <th>2</th>\n",
       "      <td>1515915625468061099</td>\n",
       "      <td>8</td>\n",
       "      <td>0</td>\n",
       "      <td>0</td>\n",
       "      <td>2</td>\n",
       "      <td>0</td>\n",
       "      <td>51</td>\n",
       "      <td>0</td>\n",
       "      <td>215</td>\n",
       "      <td>0</td>\n",
       "      <td>0</td>\n",
       "      <td>0</td>\n",
       "    </tr>\n",
       "    <tr>\n",
       "      <th>3</th>\n",
       "      <td>1515915625468061100</td>\n",
       "      <td>1</td>\n",
       "      <td>0</td>\n",
       "      <td>0</td>\n",
       "      <td>1</td>\n",
       "      <td>0</td>\n",
       "      <td>157</td>\n",
       "      <td>1</td>\n",
       "      <td>267</td>\n",
       "      <td>1</td>\n",
       "      <td>0</td>\n",
       "      <td>0</td>\n",
       "    </tr>\n",
       "    <tr>\n",
       "      <th>4</th>\n",
       "      <td>1515915625468061170</td>\n",
       "      <td>16</td>\n",
       "      <td>0</td>\n",
       "      <td>0</td>\n",
       "      <td>0</td>\n",
       "      <td>0</td>\n",
       "      <td>31</td>\n",
       "      <td>3</td>\n",
       "      <td>243</td>\n",
       "      <td>0</td>\n",
       "      <td>0</td>\n",
       "      <td>0</td>\n",
       "    </tr>\n",
       "  </tbody>\n",
       "</table>\n",
       "</div>"
      ],
      "text/plain": [
       "event            client_id  click  close  complain  hard_bounce  hbq_spam  \\\n",
       "0      1515915625468060902     10      0         0            0         0   \n",
       "1      1515915625468061003      5      0         0            0         0   \n",
       "2      1515915625468061099      8      0         0            2         0   \n",
       "3      1515915625468061100      1      0         0            1         0   \n",
       "4      1515915625468061170     16      0         0            0         0   \n",
       "\n",
       "event  open  purchase  send  soft_bounce  subscribe  unsubscribe  \n",
       "0        35         5   126            0          0            1  \n",
       "1         5         1   154            0          0            0  \n",
       "2        51         0   215            0          0            0  \n",
       "3       157         1   267            1          0            0  \n",
       "4        31         3   243            0          0            0  "
      ]
     },
     "execution_count": 31,
     "metadata": {},
     "output_type": "execute_result"
    }
   ],
   "source": [
    "message_events = pd.pivot_table(data=messages, index='client_id', columns='event', aggfunc='size',\n",
    "                              fill_value=0).reset_index()\n",
    "\n",
    "message_events.head()"
   ]
  },
  {
   "cell_type": "code",
   "execution_count": 32,
   "id": "RiWjfzQxrZGy",
   "metadata": {
    "colab": {
     "base_uri": "https://localhost:8080/"
    },
    "id": "RiWjfzQxrZGy",
    "outputId": "0e9d7bc4-ceda-491f-a828-36a61c304e63"
   },
   "outputs": [
    {
     "data": {
      "text/plain": [
       "(41982, 12)"
      ]
     },
     "execution_count": 32,
     "metadata": {},
     "output_type": "execute_result"
    }
   ],
   "source": [
    "message_events.shape"
   ]
  },
  {
   "cell_type": "code",
   "execution_count": 33,
   "id": "63mtyuIWngeX",
   "metadata": {
    "colab": {
     "base_uri": "https://localhost:8080/",
     "height": 204
    },
    "id": "63mtyuIWngeX",
    "outputId": "70551c04-22ca-4616-8b41-673c25af19a5"
   },
   "outputs": [
    {
     "data": {
      "text/html": [
       "<div>\n",
       "<style scoped>\n",
       "    .dataframe tbody tr th:only-of-type {\n",
       "        vertical-align: middle;\n",
       "    }\n",
       "\n",
       "    .dataframe tbody tr th {\n",
       "        vertical-align: top;\n",
       "    }\n",
       "\n",
       "    .dataframe thead th {\n",
       "        text-align: right;\n",
       "    }\n",
       "</style>\n",
       "<table border=\"1\" class=\"dataframe\">\n",
       "  <thead>\n",
       "    <tr style=\"text-align: right;\">\n",
       "      <th>channel</th>\n",
       "      <th>client_id</th>\n",
       "      <th>email</th>\n",
       "      <th>mobile_push</th>\n",
       "    </tr>\n",
       "  </thead>\n",
       "  <tbody>\n",
       "    <tr>\n",
       "      <th>0</th>\n",
       "      <td>1515915625468060902</td>\n",
       "      <td>177</td>\n",
       "      <td>0</td>\n",
       "    </tr>\n",
       "    <tr>\n",
       "      <th>1</th>\n",
       "      <td>1515915625468061003</td>\n",
       "      <td>165</td>\n",
       "      <td>0</td>\n",
       "    </tr>\n",
       "    <tr>\n",
       "      <th>2</th>\n",
       "      <td>1515915625468061099</td>\n",
       "      <td>182</td>\n",
       "      <td>94</td>\n",
       "    </tr>\n",
       "    <tr>\n",
       "      <th>3</th>\n",
       "      <td>1515915625468061100</td>\n",
       "      <td>0</td>\n",
       "      <td>428</td>\n",
       "    </tr>\n",
       "    <tr>\n",
       "      <th>4</th>\n",
       "      <td>1515915625468061170</td>\n",
       "      <td>202</td>\n",
       "      <td>91</td>\n",
       "    </tr>\n",
       "  </tbody>\n",
       "</table>\n",
       "</div>"
      ],
      "text/plain": [
       "channel            client_id  email  mobile_push\n",
       "0        1515915625468060902    177            0\n",
       "1        1515915625468061003    165            0\n",
       "2        1515915625468061099    182           94\n",
       "3        1515915625468061100      0          428\n",
       "4        1515915625468061170    202           91"
      ]
     },
     "execution_count": 33,
     "metadata": {},
     "output_type": "execute_result"
    }
   ],
   "source": [
    "message_channels = pd.pivot_table(data=messages, index='client_id',\n",
    "                                  columns = 'channel', aggfunc='size', fill_value=0).reset_index()\n",
    "message_channels.head()"
   ]
  },
  {
   "cell_type": "code",
   "execution_count": 34,
   "id": "1aa8116c",
   "metadata": {
    "colab": {
     "base_uri": "https://localhost:8080/"
    },
    "id": "1aa8116c",
    "outputId": "b90da28c-196d-4c1e-ea3b-deed898180de"
   },
   "outputs": [
    {
     "data": {
      "text/plain": [
       "(41982, 3)"
      ]
     },
     "execution_count": 34,
     "metadata": {},
     "output_type": "execute_result"
    }
   ],
   "source": [
    "message_channels.shape"
   ]
  },
  {
   "cell_type": "markdown",
   "id": "30d4860c",
   "metadata": {
    "id": "30d4860c"
   },
   "source": [
    "Теперь рассмотрим таблицу purchases"
   ]
  },
  {
   "cell_type": "code",
   "execution_count": 35,
   "id": "1da72b76",
   "metadata": {
    "colab": {
     "base_uri": "https://localhost:8080/",
     "height": 289
    },
    "id": "1da72b76",
    "outputId": "cc869d45-b8bb-4305-e838-4dffc7e2f545",
    "scrolled": true
   },
   "outputs": [
    {
     "data": {
      "text/html": [
       "<div>\n",
       "<style scoped>\n",
       "    .dataframe tbody tr th:only-of-type {\n",
       "        vertical-align: middle;\n",
       "    }\n",
       "\n",
       "    .dataframe tbody tr th {\n",
       "        vertical-align: top;\n",
       "    }\n",
       "\n",
       "    .dataframe thead th {\n",
       "        text-align: right;\n",
       "    }\n",
       "</style>\n",
       "<table border=\"1\" class=\"dataframe\">\n",
       "  <thead>\n",
       "    <tr style=\"text-align: right;\">\n",
       "      <th></th>\n",
       "      <th>client_id</th>\n",
       "      <th>quantity</th>\n",
       "      <th>price</th>\n",
       "      <th>category_ids</th>\n",
       "      <th>date</th>\n",
       "      <th>message_id</th>\n",
       "    </tr>\n",
       "  </thead>\n",
       "  <tbody>\n",
       "    <tr>\n",
       "      <th>0</th>\n",
       "      <td>1515915625468169594</td>\n",
       "      <td>1</td>\n",
       "      <td>1999.0</td>\n",
       "      <td>['4', '28', '57', '431']</td>\n",
       "      <td>2022-05-16</td>\n",
       "      <td>1515915625468169594-4301-627b661e9736d</td>\n",
       "    </tr>\n",
       "    <tr>\n",
       "      <th>1</th>\n",
       "      <td>1515915625468169594</td>\n",
       "      <td>1</td>\n",
       "      <td>2499.0</td>\n",
       "      <td>['4', '28', '57', '431']</td>\n",
       "      <td>2022-05-16</td>\n",
       "      <td>1515915625468169594-4301-627b661e9736d</td>\n",
       "    </tr>\n",
       "    <tr>\n",
       "      <th>2</th>\n",
       "      <td>1515915625471138230</td>\n",
       "      <td>1</td>\n",
       "      <td>6499.0</td>\n",
       "      <td>['4', '28', '57', '431']</td>\n",
       "      <td>2022-05-16</td>\n",
       "      <td>1515915625471138230-4437-6282242f27843</td>\n",
       "    </tr>\n",
       "    <tr>\n",
       "      <th>3</th>\n",
       "      <td>1515915625471138230</td>\n",
       "      <td>1</td>\n",
       "      <td>4999.0</td>\n",
       "      <td>['4', '28', '244', '432']</td>\n",
       "      <td>2022-05-16</td>\n",
       "      <td>1515915625471138230-4437-6282242f27843</td>\n",
       "    </tr>\n",
       "    <tr>\n",
       "      <th>4</th>\n",
       "      <td>1515915625471138230</td>\n",
       "      <td>1</td>\n",
       "      <td>4999.0</td>\n",
       "      <td>['4', '28', '49', '413']</td>\n",
       "      <td>2022-05-16</td>\n",
       "      <td>1515915625471138230-4437-6282242f27843</td>\n",
       "    </tr>\n",
       "  </tbody>\n",
       "</table>\n",
       "</div>"
      ],
      "text/plain": [
       "             client_id  quantity   price               category_ids  \\\n",
       "0  1515915625468169594         1  1999.0   ['4', '28', '57', '431']   \n",
       "1  1515915625468169594         1  2499.0   ['4', '28', '57', '431']   \n",
       "2  1515915625471138230         1  6499.0   ['4', '28', '57', '431']   \n",
       "3  1515915625471138230         1  4999.0  ['4', '28', '244', '432']   \n",
       "4  1515915625471138230         1  4999.0   ['4', '28', '49', '413']   \n",
       "\n",
       "        date                              message_id  \n",
       "0 2022-05-16  1515915625468169594-4301-627b661e9736d  \n",
       "1 2022-05-16  1515915625468169594-4301-627b661e9736d  \n",
       "2 2022-05-16  1515915625471138230-4437-6282242f27843  \n",
       "3 2022-05-16  1515915625471138230-4437-6282242f27843  \n",
       "4 2022-05-16  1515915625471138230-4437-6282242f27843  "
      ]
     },
     "execution_count": 35,
     "metadata": {},
     "output_type": "execute_result"
    }
   ],
   "source": [
    "purchases.head()"
   ]
  },
  {
   "cell_type": "code",
   "execution_count": 36,
   "id": "9cbc83d4",
   "metadata": {
    "colab": {
     "base_uri": "https://localhost:8080/"
    },
    "id": "9cbc83d4",
    "outputId": "a5ee3ec3-1d7d-4767-d44e-6e3790a2ac1d"
   },
   "outputs": [
    {
     "data": {
      "text/plain": [
       "(129188, 6)"
      ]
     },
     "execution_count": 36,
     "metadata": {},
     "output_type": "execute_result"
    }
   ],
   "source": [
    "purchases.shape"
   ]
  },
  {
   "cell_type": "markdown",
   "id": "b380d094",
   "metadata": {
    "id": "b380d094"
   },
   "source": [
    "добавим следующие дополнительные признаки: total_price, total_quantity, cat_1, cat_2, cat_3, cat_4 и cat_5"
   ]
  },
  {
   "cell_type": "code",
   "execution_count": 37,
   "id": "49890642",
   "metadata": {
    "colab": {
     "base_uri": "https://localhost:8080/",
     "height": 309
    },
    "id": "49890642",
    "outputId": "06c2b69f-6b11-491c-8d12-6dd73fdfb4f1"
   },
   "outputs": [
    {
     "data": {
      "text/html": [
       "<div>\n",
       "<style scoped>\n",
       "    .dataframe tbody tr th:only-of-type {\n",
       "        vertical-align: middle;\n",
       "    }\n",
       "\n",
       "    .dataframe tbody tr th {\n",
       "        vertical-align: top;\n",
       "    }\n",
       "\n",
       "    .dataframe thead th {\n",
       "        text-align: right;\n",
       "    }\n",
       "</style>\n",
       "<table border=\"1\" class=\"dataframe\">\n",
       "  <thead>\n",
       "    <tr style=\"text-align: right;\">\n",
       "      <th></th>\n",
       "      <th>client_id</th>\n",
       "      <th>quantity</th>\n",
       "      <th>price</th>\n",
       "      <th>category_ids</th>\n",
       "      <th>date</th>\n",
       "      <th>message_id</th>\n",
       "      <th>total_price</th>\n",
       "      <th>total_quantity</th>\n",
       "    </tr>\n",
       "  </thead>\n",
       "  <tbody>\n",
       "    <tr>\n",
       "      <th>0</th>\n",
       "      <td>1515915625468169594</td>\n",
       "      <td>1</td>\n",
       "      <td>1999.0</td>\n",
       "      <td>['4', '28', '57', '431']</td>\n",
       "      <td>2022-05-16</td>\n",
       "      <td>1515915625468169594-4301-627b661e9736d</td>\n",
       "      <td>4498.0</td>\n",
       "      <td>2</td>\n",
       "    </tr>\n",
       "    <tr>\n",
       "      <th>1</th>\n",
       "      <td>1515915625468169594</td>\n",
       "      <td>1</td>\n",
       "      <td>2499.0</td>\n",
       "      <td>['4', '28', '57', '431']</td>\n",
       "      <td>2022-05-16</td>\n",
       "      <td>1515915625468169594-4301-627b661e9736d</td>\n",
       "      <td>4498.0</td>\n",
       "      <td>2</td>\n",
       "    </tr>\n",
       "    <tr>\n",
       "      <th>2</th>\n",
       "      <td>1515915625471138230</td>\n",
       "      <td>1</td>\n",
       "      <td>6499.0</td>\n",
       "      <td>['4', '28', '57', '431']</td>\n",
       "      <td>2022-05-16</td>\n",
       "      <td>1515915625471138230-4437-6282242f27843</td>\n",
       "      <td>16497.0</td>\n",
       "      <td>3</td>\n",
       "    </tr>\n",
       "    <tr>\n",
       "      <th>3</th>\n",
       "      <td>1515915625471138230</td>\n",
       "      <td>1</td>\n",
       "      <td>4999.0</td>\n",
       "      <td>['4', '28', '244', '432']</td>\n",
       "      <td>2022-05-16</td>\n",
       "      <td>1515915625471138230-4437-6282242f27843</td>\n",
       "      <td>16497.0</td>\n",
       "      <td>3</td>\n",
       "    </tr>\n",
       "    <tr>\n",
       "      <th>4</th>\n",
       "      <td>1515915625471138230</td>\n",
       "      <td>1</td>\n",
       "      <td>4999.0</td>\n",
       "      <td>['4', '28', '49', '413']</td>\n",
       "      <td>2022-05-16</td>\n",
       "      <td>1515915625471138230-4437-6282242f27843</td>\n",
       "      <td>16497.0</td>\n",
       "      <td>3</td>\n",
       "    </tr>\n",
       "  </tbody>\n",
       "</table>\n",
       "</div>"
      ],
      "text/plain": [
       "             client_id  quantity   price               category_ids  \\\n",
       "0  1515915625468169594         1  1999.0   ['4', '28', '57', '431']   \n",
       "1  1515915625468169594         1  2499.0   ['4', '28', '57', '431']   \n",
       "2  1515915625471138230         1  6499.0   ['4', '28', '57', '431']   \n",
       "3  1515915625471138230         1  4999.0  ['4', '28', '244', '432']   \n",
       "4  1515915625471138230         1  4999.0   ['4', '28', '49', '413']   \n",
       "\n",
       "        date                              message_id  total_price  \\\n",
       "0 2022-05-16  1515915625468169594-4301-627b661e9736d       4498.0   \n",
       "1 2022-05-16  1515915625468169594-4301-627b661e9736d       4498.0   \n",
       "2 2022-05-16  1515915625471138230-4437-6282242f27843      16497.0   \n",
       "3 2022-05-16  1515915625471138230-4437-6282242f27843      16497.0   \n",
       "4 2022-05-16  1515915625471138230-4437-6282242f27843      16497.0   \n",
       "\n",
       "   total_quantity  \n",
       "0               2  \n",
       "1               2  \n",
       "2               3  \n",
       "3               3  \n",
       "4               3  "
      ]
     },
     "execution_count": 37,
     "metadata": {},
     "output_type": "execute_result"
    }
   ],
   "source": [
    "purchases['total_price'] = purchases.groupby(['client_id','message_id'])[\"price\"].transform(lambda x: x.sum())\n",
    "purchases['total_quantity'] = purchases.groupby('message_id')[\"quantity\"].transform(lambda x: x.sum())\n",
    "purchases.head()"
   ]
  },
  {
   "cell_type": "code",
   "execution_count": 38,
   "id": "0d59a007",
   "metadata": {
    "colab": {
     "base_uri": "https://localhost:8080/",
     "height": 309
    },
    "id": "0d59a007",
    "outputId": "7d016c0b-edf6-4635-9dce-28a0ade7c688"
   },
   "outputs": [
    {
     "data": {
      "text/html": [
       "<div>\n",
       "<style scoped>\n",
       "    .dataframe tbody tr th:only-of-type {\n",
       "        vertical-align: middle;\n",
       "    }\n",
       "\n",
       "    .dataframe tbody tr th {\n",
       "        vertical-align: top;\n",
       "    }\n",
       "\n",
       "    .dataframe thead th {\n",
       "        text-align: right;\n",
       "    }\n",
       "</style>\n",
       "<table border=\"1\" class=\"dataframe\">\n",
       "  <thead>\n",
       "    <tr style=\"text-align: right;\">\n",
       "      <th></th>\n",
       "      <th>client_id</th>\n",
       "      <th>quantity</th>\n",
       "      <th>price</th>\n",
       "      <th>category_ids</th>\n",
       "      <th>date</th>\n",
       "      <th>message_id</th>\n",
       "      <th>total_price</th>\n",
       "      <th>total_quantity</th>\n",
       "      <th>cat_1</th>\n",
       "      <th>cat_2</th>\n",
       "      <th>cat_3</th>\n",
       "      <th>cat_4</th>\n",
       "      <th>cat_5</th>\n",
       "    </tr>\n",
       "  </thead>\n",
       "  <tbody>\n",
       "    <tr>\n",
       "      <th>0</th>\n",
       "      <td>1515915625468169594</td>\n",
       "      <td>1</td>\n",
       "      <td>1999.0</td>\n",
       "      <td>[4, 28, 57, 431]</td>\n",
       "      <td>2022-05-16</td>\n",
       "      <td>1515915625468169594-4301-627b661e9736d</td>\n",
       "      <td>4498.0</td>\n",
       "      <td>2</td>\n",
       "      <td>4</td>\n",
       "      <td>28</td>\n",
       "      <td>57</td>\n",
       "      <td>431</td>\n",
       "      <td>None</td>\n",
       "    </tr>\n",
       "    <tr>\n",
       "      <th>1</th>\n",
       "      <td>1515915625468169594</td>\n",
       "      <td>1</td>\n",
       "      <td>2499.0</td>\n",
       "      <td>[4, 28, 57, 431]</td>\n",
       "      <td>2022-05-16</td>\n",
       "      <td>1515915625468169594-4301-627b661e9736d</td>\n",
       "      <td>4498.0</td>\n",
       "      <td>2</td>\n",
       "      <td>4</td>\n",
       "      <td>28</td>\n",
       "      <td>57</td>\n",
       "      <td>431</td>\n",
       "      <td>None</td>\n",
       "    </tr>\n",
       "    <tr>\n",
       "      <th>2</th>\n",
       "      <td>1515915625471138230</td>\n",
       "      <td>1</td>\n",
       "      <td>6499.0</td>\n",
       "      <td>[4, 28, 57, 431]</td>\n",
       "      <td>2022-05-16</td>\n",
       "      <td>1515915625471138230-4437-6282242f27843</td>\n",
       "      <td>16497.0</td>\n",
       "      <td>3</td>\n",
       "      <td>4</td>\n",
       "      <td>28</td>\n",
       "      <td>57</td>\n",
       "      <td>431</td>\n",
       "      <td>None</td>\n",
       "    </tr>\n",
       "    <tr>\n",
       "      <th>3</th>\n",
       "      <td>1515915625471138230</td>\n",
       "      <td>1</td>\n",
       "      <td>4999.0</td>\n",
       "      <td>[4, 28, 244, 432]</td>\n",
       "      <td>2022-05-16</td>\n",
       "      <td>1515915625471138230-4437-6282242f27843</td>\n",
       "      <td>16497.0</td>\n",
       "      <td>3</td>\n",
       "      <td>4</td>\n",
       "      <td>28</td>\n",
       "      <td>244</td>\n",
       "      <td>432</td>\n",
       "      <td>None</td>\n",
       "    </tr>\n",
       "    <tr>\n",
       "      <th>4</th>\n",
       "      <td>1515915625471138230</td>\n",
       "      <td>1</td>\n",
       "      <td>4999.0</td>\n",
       "      <td>[4, 28, 49, 413]</td>\n",
       "      <td>2022-05-16</td>\n",
       "      <td>1515915625471138230-4437-6282242f27843</td>\n",
       "      <td>16497.0</td>\n",
       "      <td>3</td>\n",
       "      <td>4</td>\n",
       "      <td>28</td>\n",
       "      <td>49</td>\n",
       "      <td>413</td>\n",
       "      <td>None</td>\n",
       "    </tr>\n",
       "  </tbody>\n",
       "</table>\n",
       "</div>"
      ],
      "text/plain": [
       "             client_id  quantity   price       category_ids       date  \\\n",
       "0  1515915625468169594         1  1999.0   [4, 28, 57, 431] 2022-05-16   \n",
       "1  1515915625468169594         1  2499.0   [4, 28, 57, 431] 2022-05-16   \n",
       "2  1515915625471138230         1  6499.0   [4, 28, 57, 431] 2022-05-16   \n",
       "3  1515915625471138230         1  4999.0  [4, 28, 244, 432] 2022-05-16   \n",
       "4  1515915625471138230         1  4999.0   [4, 28, 49, 413] 2022-05-16   \n",
       "\n",
       "                               message_id  total_price  total_quantity cat_1  \\\n",
       "0  1515915625468169594-4301-627b661e9736d       4498.0               2     4   \n",
       "1  1515915625468169594-4301-627b661e9736d       4498.0               2     4   \n",
       "2  1515915625471138230-4437-6282242f27843      16497.0               3     4   \n",
       "3  1515915625471138230-4437-6282242f27843      16497.0               3     4   \n",
       "4  1515915625471138230-4437-6282242f27843      16497.0               3     4   \n",
       "\n",
       "  cat_2 cat_3 cat_4 cat_5  \n",
       "0    28    57   431  None  \n",
       "1    28    57   431  None  \n",
       "2    28    57   431  None  \n",
       "3    28   244   432  None  \n",
       "4    28    49   413  None  "
      ]
     },
     "execution_count": 38,
     "metadata": {},
     "output_type": "execute_result"
    }
   ],
   "source": [
    "purchases['category_ids'] = purchases['category_ids'].str.replace(r\"[\\[\\]'\\s]\", \"\", regex=True).str.split(',')\n",
    "max_categories = purchases['category_ids'].apply(len).max()\n",
    "category_columns = [f'cat_{i+1}' for i in range(max_categories)]\n",
    "purchases[category_columns] = pd.DataFrame(purchases['category_ids'].tolist(), index=purchases.index)\n",
    "purchases.head()"
   ]
  },
  {
   "cell_type": "code",
   "execution_count": 39,
   "id": "d7003516",
   "metadata": {
    "colab": {
     "base_uri": "https://localhost:8080/",
     "height": 486
    },
    "id": "d7003516",
    "outputId": "111b4d74-3956-4321-dc09-7c76c947e1cf"
   },
   "outputs": [
    {
     "data": {
      "text/plain": [
       "client_id              0\n",
       "quantity               0\n",
       "price                  0\n",
       "category_ids           0\n",
       "date                   0\n",
       "message_id             0\n",
       "total_price            0\n",
       "total_quantity         0\n",
       "cat_1                  0\n",
       "cat_2               3360\n",
       "cat_3               3360\n",
       "cat_4               4096\n",
       "cat_5             128843\n",
       "dtype: int64"
      ]
     },
     "execution_count": 39,
     "metadata": {},
     "output_type": "execute_result"
    }
   ],
   "source": [
    "purchases.isna().sum()"
   ]
  },
  {
   "cell_type": "markdown",
   "id": "19d38863",
   "metadata": {
    "id": "19d38863"
   },
   "source": [
    "Теперь удалим категорию 5, тк она редко встречается в таблице"
   ]
  },
  {
   "cell_type": "code",
   "execution_count": 40,
   "id": "7010df81",
   "metadata": {
    "colab": {
     "base_uri": "https://localhost:8080/",
     "height": 609
    },
    "id": "7010df81",
    "outputId": "6cb2a7e0-aaf0-4d80-b509-bda1ffff5ec2"
   },
   "outputs": [
    {
     "data": {
      "text/html": [
       "<div>\n",
       "<style scoped>\n",
       "    .dataframe tbody tr th:only-of-type {\n",
       "        vertical-align: middle;\n",
       "    }\n",
       "\n",
       "    .dataframe tbody tr th {\n",
       "        vertical-align: top;\n",
       "    }\n",
       "\n",
       "    .dataframe thead th {\n",
       "        text-align: right;\n",
       "    }\n",
       "</style>\n",
       "<table border=\"1\" class=\"dataframe\">\n",
       "  <thead>\n",
       "    <tr style=\"text-align: right;\">\n",
       "      <th></th>\n",
       "      <th>client_id</th>\n",
       "      <th>quantity</th>\n",
       "      <th>price</th>\n",
       "      <th>category_ids</th>\n",
       "      <th>date</th>\n",
       "      <th>message_id</th>\n",
       "      <th>total_price</th>\n",
       "      <th>total_quantity</th>\n",
       "      <th>cat_1</th>\n",
       "      <th>cat_2</th>\n",
       "      <th>cat_3</th>\n",
       "      <th>cat_4</th>\n",
       "    </tr>\n",
       "  </thead>\n",
       "  <tbody>\n",
       "    <tr>\n",
       "      <th>0</th>\n",
       "      <td>1515915625468169594</td>\n",
       "      <td>1</td>\n",
       "      <td>1999.0</td>\n",
       "      <td>[4, 28, 57, 431]</td>\n",
       "      <td>2022-05-16</td>\n",
       "      <td>1515915625468169594-4301-627b661e9736d</td>\n",
       "      <td>4498.0</td>\n",
       "      <td>2</td>\n",
       "      <td>4</td>\n",
       "      <td>28</td>\n",
       "      <td>57</td>\n",
       "      <td>431</td>\n",
       "    </tr>\n",
       "    <tr>\n",
       "      <th>1</th>\n",
       "      <td>1515915625468169594</td>\n",
       "      <td>1</td>\n",
       "      <td>2499.0</td>\n",
       "      <td>[4, 28, 57, 431]</td>\n",
       "      <td>2022-05-16</td>\n",
       "      <td>1515915625468169594-4301-627b661e9736d</td>\n",
       "      <td>4498.0</td>\n",
       "      <td>2</td>\n",
       "      <td>4</td>\n",
       "      <td>28</td>\n",
       "      <td>57</td>\n",
       "      <td>431</td>\n",
       "    </tr>\n",
       "    <tr>\n",
       "      <th>2</th>\n",
       "      <td>1515915625471138230</td>\n",
       "      <td>1</td>\n",
       "      <td>6499.0</td>\n",
       "      <td>[4, 28, 57, 431]</td>\n",
       "      <td>2022-05-16</td>\n",
       "      <td>1515915625471138230-4437-6282242f27843</td>\n",
       "      <td>16497.0</td>\n",
       "      <td>3</td>\n",
       "      <td>4</td>\n",
       "      <td>28</td>\n",
       "      <td>57</td>\n",
       "      <td>431</td>\n",
       "    </tr>\n",
       "    <tr>\n",
       "      <th>3</th>\n",
       "      <td>1515915625471138230</td>\n",
       "      <td>1</td>\n",
       "      <td>4999.0</td>\n",
       "      <td>[4, 28, 244, 432]</td>\n",
       "      <td>2022-05-16</td>\n",
       "      <td>1515915625471138230-4437-6282242f27843</td>\n",
       "      <td>16497.0</td>\n",
       "      <td>3</td>\n",
       "      <td>4</td>\n",
       "      <td>28</td>\n",
       "      <td>244</td>\n",
       "      <td>432</td>\n",
       "    </tr>\n",
       "    <tr>\n",
       "      <th>4</th>\n",
       "      <td>1515915625471138230</td>\n",
       "      <td>1</td>\n",
       "      <td>4999.0</td>\n",
       "      <td>[4, 28, 49, 413]</td>\n",
       "      <td>2022-05-16</td>\n",
       "      <td>1515915625471138230-4437-6282242f27843</td>\n",
       "      <td>16497.0</td>\n",
       "      <td>3</td>\n",
       "      <td>4</td>\n",
       "      <td>28</td>\n",
       "      <td>49</td>\n",
       "      <td>413</td>\n",
       "    </tr>\n",
       "    <tr>\n",
       "      <th>...</th>\n",
       "      <td>...</td>\n",
       "      <td>...</td>\n",
       "      <td>...</td>\n",
       "      <td>...</td>\n",
       "      <td>...</td>\n",
       "      <td>...</td>\n",
       "      <td>...</td>\n",
       "      <td>...</td>\n",
       "      <td>...</td>\n",
       "      <td>...</td>\n",
       "      <td>...</td>\n",
       "      <td>...</td>\n",
       "    </tr>\n",
       "    <tr>\n",
       "      <th>202196</th>\n",
       "      <td>1515915626010221592</td>\n",
       "      <td>1</td>\n",
       "      <td>1499.0</td>\n",
       "      <td>[4, 28, 260, 1194]</td>\n",
       "      <td>2024-02-16</td>\n",
       "      <td>1515915626010221592-14664-65cf1622434a9</td>\n",
       "      <td>1499.0</td>\n",
       "      <td>1</td>\n",
       "      <td>4</td>\n",
       "      <td>28</td>\n",
       "      <td>260</td>\n",
       "      <td>1194</td>\n",
       "    </tr>\n",
       "    <tr>\n",
       "      <th>202198</th>\n",
       "      <td>1515915626010261344</td>\n",
       "      <td>1</td>\n",
       "      <td>1499.0</td>\n",
       "      <td>[2, 18, 212, 726]</td>\n",
       "      <td>2024-02-16</td>\n",
       "      <td>1515915626010261344-14648-65cdb6d56c4c8</td>\n",
       "      <td>1499.0</td>\n",
       "      <td>1</td>\n",
       "      <td>2</td>\n",
       "      <td>18</td>\n",
       "      <td>212</td>\n",
       "      <td>726</td>\n",
       "    </tr>\n",
       "    <tr>\n",
       "      <th>202204</th>\n",
       "      <td>1515915626010439406</td>\n",
       "      <td>1</td>\n",
       "      <td>99.0</td>\n",
       "      <td>[4, 27, 233, 462]</td>\n",
       "      <td>2024-02-16</td>\n",
       "      <td>1515915625776605028-14662-65cf3abfe4f0d</td>\n",
       "      <td>99.0</td>\n",
       "      <td>2</td>\n",
       "      <td>4</td>\n",
       "      <td>27</td>\n",
       "      <td>233</td>\n",
       "      <td>462</td>\n",
       "    </tr>\n",
       "    <tr>\n",
       "      <th>202206</th>\n",
       "      <td>1515915626010443527</td>\n",
       "      <td>1</td>\n",
       "      <td>1999.0</td>\n",
       "      <td>[2, 18, 274, 446]</td>\n",
       "      <td>2024-02-16</td>\n",
       "      <td>1515915625766077627-14668-65cf5246bd490</td>\n",
       "      <td>1999.0</td>\n",
       "      <td>3</td>\n",
       "      <td>2</td>\n",
       "      <td>18</td>\n",
       "      <td>274</td>\n",
       "      <td>446</td>\n",
       "    </tr>\n",
       "    <tr>\n",
       "      <th>202207</th>\n",
       "      <td>1515915626010443624</td>\n",
       "      <td>1</td>\n",
       "      <td>999.0</td>\n",
       "      <td>[4, 28, 62, 656]</td>\n",
       "      <td>2024-02-16</td>\n",
       "      <td>1515915625488468007-14668-65cf5234b1295</td>\n",
       "      <td>999.0</td>\n",
       "      <td>2</td>\n",
       "      <td>4</td>\n",
       "      <td>28</td>\n",
       "      <td>62</td>\n",
       "      <td>656</td>\n",
       "    </tr>\n",
       "  </tbody>\n",
       "</table>\n",
       "<p>129188 rows × 12 columns</p>\n",
       "</div>"
      ],
      "text/plain": [
       "                  client_id  quantity   price        category_ids       date  \\\n",
       "0       1515915625468169594         1  1999.0    [4, 28, 57, 431] 2022-05-16   \n",
       "1       1515915625468169594         1  2499.0    [4, 28, 57, 431] 2022-05-16   \n",
       "2       1515915625471138230         1  6499.0    [4, 28, 57, 431] 2022-05-16   \n",
       "3       1515915625471138230         1  4999.0   [4, 28, 244, 432] 2022-05-16   \n",
       "4       1515915625471138230         1  4999.0    [4, 28, 49, 413] 2022-05-16   \n",
       "...                     ...       ...     ...                 ...        ...   \n",
       "202196  1515915626010221592         1  1499.0  [4, 28, 260, 1194] 2024-02-16   \n",
       "202198  1515915626010261344         1  1499.0   [2, 18, 212, 726] 2024-02-16   \n",
       "202204  1515915626010439406         1    99.0   [4, 27, 233, 462] 2024-02-16   \n",
       "202206  1515915626010443527         1  1999.0   [2, 18, 274, 446] 2024-02-16   \n",
       "202207  1515915626010443624         1   999.0    [4, 28, 62, 656] 2024-02-16   \n",
       "\n",
       "                                     message_id  total_price  total_quantity  \\\n",
       "0        1515915625468169594-4301-627b661e9736d       4498.0               2   \n",
       "1        1515915625468169594-4301-627b661e9736d       4498.0               2   \n",
       "2        1515915625471138230-4437-6282242f27843      16497.0               3   \n",
       "3        1515915625471138230-4437-6282242f27843      16497.0               3   \n",
       "4        1515915625471138230-4437-6282242f27843      16497.0               3   \n",
       "...                                         ...          ...             ...   \n",
       "202196  1515915626010221592-14664-65cf1622434a9       1499.0               1   \n",
       "202198  1515915626010261344-14648-65cdb6d56c4c8       1499.0               1   \n",
       "202204  1515915625776605028-14662-65cf3abfe4f0d         99.0               2   \n",
       "202206  1515915625766077627-14668-65cf5246bd490       1999.0               3   \n",
       "202207  1515915625488468007-14668-65cf5234b1295        999.0               2   \n",
       "\n",
       "       cat_1 cat_2 cat_3 cat_4  \n",
       "0          4    28    57   431  \n",
       "1          4    28    57   431  \n",
       "2          4    28    57   431  \n",
       "3          4    28   244   432  \n",
       "4          4    28    49   413  \n",
       "...      ...   ...   ...   ...  \n",
       "202196     4    28   260  1194  \n",
       "202198     2    18   212   726  \n",
       "202204     4    27   233   462  \n",
       "202206     2    18   274   446  \n",
       "202207     4    28    62   656  \n",
       "\n",
       "[129188 rows x 12 columns]"
      ]
     },
     "execution_count": 40,
     "metadata": {},
     "output_type": "execute_result"
    }
   ],
   "source": [
    "purchases.drop('cat_5',axis=1)"
   ]
  },
  {
   "cell_type": "code",
   "execution_count": 41,
   "id": "0df6c20c",
   "metadata": {
    "colab": {
     "base_uri": "https://localhost:8080/"
    },
    "id": "0df6c20c",
    "outputId": "81d60bf1-84fb-4f99-af19-3300d973116d"
   },
   "outputs": [
    {
     "data": {
      "text/plain": [
       "(125092, 5)"
      ]
     },
     "execution_count": 41,
     "metadata": {},
     "output_type": "execute_result"
    }
   ],
   "source": [
    "categories = purchases[['client_id', 'cat_1', 'cat_2', 'cat_3', 'cat_4']]\n",
    "categories = categories.dropna()\n",
    "categories[['cat_1', 'cat_2', 'cat_3', 'cat_4']] = categories[['cat_1', 'cat_2', 'cat_3', 'cat_4']].astype('int')\n",
    "categories.shape"
   ]
  },
  {
   "cell_type": "code",
   "execution_count": 42,
   "id": "6420a6d6",
   "metadata": {
    "colab": {
     "base_uri": "https://localhost:8080/"
    },
    "id": "6420a6d6",
    "outputId": "f2584ca3-145e-4054-910e-689508f75466"
   },
   "outputs": [
    {
     "data": {
      "text/plain": [
       "(129188, 3)"
      ]
     },
     "execution_count": 42,
     "metadata": {},
     "output_type": "execute_result"
    }
   ],
   "source": [
    "purchases_new = purchases[['client_id', 'total_quantity', 'total_price']]\n",
    "\n",
    "purchases_new.shape"
   ]
  },
  {
   "cell_type": "markdown",
   "id": "a6378c54",
   "metadata": {
    "id": "a6378c54"
   },
   "source": [
    "<b>Вывод</b>\n",
    "<br>Создали две сводные таблицы из messages, в которых посчитаны event и способ получения сообщения\n",
    "<br>В таблице purchases создали 4 новых столбца с категориями покупок (пятый, редко встречающийся, удалили), а также столбцы total_quantity и total_price, отделили для удобства таблицу с категориями и таблицу с суммой\n",
    "<br> Перейдем к этапу объединения таблиц"
   ]
  },
  {
   "cell_type": "markdown",
   "id": "e0bc4110",
   "metadata": {
    "id": "e0bc4110"
   },
   "source": [
    "## Шаг 5. Объединение таблиц"
   ]
  },
  {
   "cell_type": "code",
   "execution_count": 43,
   "id": "b2423ebc",
   "metadata": {
    "id": "b2423ebc"
   },
   "outputs": [],
   "source": [
    "target = target.reset_index(drop=True)\n",
    "message_channels = message_channels.reset_index(drop=True)\n",
    "categories = categories.reset_index(drop=True)\n",
    "purchases_new = purchases_new.reset_index(drop=True)"
   ]
  },
  {
   "cell_type": "code",
   "execution_count": 44,
   "id": "3e91cf2c",
   "metadata": {
    "colab": {
     "base_uri": "https://localhost:8080/"
    },
    "id": "3e91cf2c",
    "outputId": "c8d6c7c3-0a7a-4057-9c61-5de72fde52bb"
   },
   "outputs": [
    {
     "data": {
      "text/plain": [
       "(49849, 21)"
      ]
     },
     "execution_count": 44,
     "metadata": {},
     "output_type": "execute_result"
    }
   ],
   "source": [
    "full = pd.merge(target, message_channels, how='left')\n",
    "full = full.drop_duplicates(subset='client_id', keep='first')\n",
    "full = pd.merge(full, purchases_new, on='client_id', how='left')\n",
    "full = full.drop_duplicates(subset='client_id', keep='first')\n",
    "full = pd.merge(full, categories, on='client_id', how='left')\n",
    "full = full.drop_duplicates(subset='client_id', keep='first')\n",
    "full = pd.merge(full, message_events, on='client_id', how='left')\n",
    "full = full.drop_duplicates(subset='client_id', keep='first')\n",
    "\n",
    "full.shape"
   ]
  },
  {
   "cell_type": "code",
   "execution_count": 45,
   "id": "e621c7a1",
   "metadata": {
    "colab": {
     "base_uri": "https://localhost:8080/",
     "height": 734
    },
    "id": "e621c7a1",
    "outputId": "cbb78b56-7add-43bd-a0de-fd6fa5c1fb9c",
    "scrolled": false
   },
   "outputs": [
    {
     "data": {
      "text/plain": [
       "client_id            0\n",
       "target               0\n",
       "email             7867\n",
       "mobile_push       7867\n",
       "total_quantity       0\n",
       "total_price          0\n",
       "cat_1              107\n",
       "cat_2              107\n",
       "cat_3              107\n",
       "cat_4              107\n",
       "click             7867\n",
       "close             7867\n",
       "complain          7867\n",
       "hard_bounce       7867\n",
       "hbq_spam          7867\n",
       "open              7867\n",
       "purchase          7867\n",
       "send              7867\n",
       "soft_bounce       7867\n",
       "subscribe         7867\n",
       "unsubscribe       7867\n",
       "dtype: int64"
      ]
     },
     "execution_count": 45,
     "metadata": {},
     "output_type": "execute_result"
    }
   ],
   "source": [
    "full.isna().sum()"
   ]
  },
  {
   "cell_type": "markdown",
   "id": "cafa4252",
   "metadata": {
    "id": "cafa4252"
   },
   "source": [
    "Мы видим пропущенные значения в категориях 1-4, заменим их нулями"
   ]
  },
  {
   "cell_type": "code",
   "execution_count": 46,
   "id": "22b5b0b2",
   "metadata": {
    "id": "22b5b0b2"
   },
   "outputs": [],
   "source": [
    "full[['cat_1', 'cat_2', 'cat_3', 'cat_4']] = full[['cat_1', 'cat_2', 'cat_3', 'cat_4']].fillna (0)\n",
    "full[['email', 'mobile_push']] = full[['email', 'mobile_push']].fillna(0)"
   ]
  },
  {
   "cell_type": "code",
   "execution_count": 47,
   "id": "-KNsYPak7a7l",
   "metadata": {
    "id": "-KNsYPak7a7l"
   },
   "outputs": [],
   "source": [
    "events = ['click', 'close', 'complain', 'hard_bounce', 'soft_bounce', 'hbq_spam',\n",
    "          'open', 'purchase', 'send', 'soft_bounce', 'subscribe', 'unsubscribe']\n",
    "for e in events:\n",
    "  full[[e]] = full[[e]].fillna(0)"
   ]
  },
  {
   "cell_type": "code",
   "execution_count": 48,
   "id": "759f51b6",
   "metadata": {
    "colab": {
     "base_uri": "https://localhost:8080/",
     "height": 734
    },
    "id": "759f51b6",
    "outputId": "814138c3-778f-45a0-e76a-4ed8c2d74e2f"
   },
   "outputs": [
    {
     "data": {
      "text/plain": [
       "client_id         0\n",
       "target            0\n",
       "email             0\n",
       "mobile_push       0\n",
       "total_quantity    0\n",
       "total_price       0\n",
       "cat_1             0\n",
       "cat_2             0\n",
       "cat_3             0\n",
       "cat_4             0\n",
       "click             0\n",
       "close             0\n",
       "complain          0\n",
       "hard_bounce       0\n",
       "hbq_spam          0\n",
       "open              0\n",
       "purchase          0\n",
       "send              0\n",
       "soft_bounce       0\n",
       "subscribe         0\n",
       "unsubscribe       0\n",
       "dtype: int64"
      ]
     },
     "execution_count": 48,
     "metadata": {},
     "output_type": "execute_result"
    }
   ],
   "source": [
    "full.isna().sum()"
   ]
  },
  {
   "cell_type": "code",
   "execution_count": 49,
   "id": "cca8e5e0",
   "metadata": {
    "colab": {
     "base_uri": "https://localhost:8080/"
    },
    "id": "cca8e5e0",
    "outputId": "068a873d-a146-4ea3-d58d-25d320c27301"
   },
   "outputs": [
    {
     "data": {
      "text/plain": [
       "(49849, 21)"
      ]
     },
     "execution_count": 49,
     "metadata": {},
     "output_type": "execute_result"
    }
   ],
   "source": [
    "full.shape"
   ]
  },
  {
   "cell_type": "markdown",
   "id": "60fcbd7c",
   "metadata": {
    "id": "60fcbd7c"
   },
   "source": [
    "<b>Вывод</b>\n",
    "<br> На данном этапе объединили получившиеся таблицы в один датасет, пропуски заполнили нулями"
   ]
  },
  {
   "cell_type": "markdown",
   "id": "aaba2439",
   "metadata": {
    "id": "aaba2439"
   },
   "source": [
    "## Шаг 6. Корреляционный анализ данных"
   ]
  },
  {
   "cell_type": "markdown",
   "id": "c094ec3d",
   "metadata": {
    "id": "c094ec3d"
   },
   "source": [
    "Разделим датасеты по целевому признаку"
   ]
  },
  {
   "cell_type": "code",
   "execution_count": 50,
   "id": "93b28501",
   "metadata": {
    "id": "93b28501"
   },
   "outputs": [],
   "source": [
    "target_1 = full[full['target'] == 1].drop(['client_id'], axis=1)\n",
    "target_0 = full[full['target'] == 0].drop(['client_id'], axis=1)"
   ]
  },
  {
   "cell_type": "code",
   "execution_count": 51,
   "id": "4b420e5d",
   "metadata": {
    "colab": {
     "base_uri": "https://localhost:8080/",
     "height": 638
    },
    "id": "4b420e5d",
    "outputId": "6c2716a1-3817-4c3e-8627-cdba1c8187b9",
    "scrolled": true
   },
   "outputs": [
    {
     "data": {
      "image/png": "[encoded data removed]",
      "text/plain": [
       "<Figure size 1000x800 with 2 Axes>"
      ]
     },
     "metadata": {},
     "output_type": "display_data"
    }
   ],
   "source": [
    "corr_matrix(target_1)"
   ]
  },
  {
   "cell_type": "code",
   "execution_count": 52,
   "id": "ad6a880f",
   "metadata": {
    "colab": {
     "base_uri": "https://localhost:8080/",
     "height": 638
    },
    "id": "ad6a880f",
    "outputId": "13977568-3659-4bd0-85fd-14aef91a5826"
   },
   "outputs": [
    {
     "data": {
      "image/png": "[encoded data removed]",
      "text/plain": [
       "<Figure size 1000x800 with 2 Axes>"
      ]
     },
     "metadata": {},
     "output_type": "display_data"
    }
   ],
   "source": [
    "corr_matrix(target_0)"
   ]
  },
  {
   "cell_type": "markdown",
   "id": "aa9a22f9",
   "metadata": {
    "id": "aa9a22f9"
   },
   "source": [
    "<b>Вывод</b>\n",
    "<br>Мультиколлинеарность между признаками отсутствует, только сильная связь между некоторыми признаками, согласно шкале Чеддока"
   ]
  },
  {
   "cell_type": "markdown",
   "id": "c96c9dc8",
   "metadata": {
    "id": "c96c9dc8"
   },
   "source": [
    "## Шаг 7. Обучение моделей"
   ]
  },
  {
   "cell_type": "code",
   "execution_count": 53,
   "id": "52a412b7",
   "metadata": {
    "id": "52a412b7"
   },
   "outputs": [],
   "source": [
    "X_train, X_test, y_train, y_test = train_test_split(\n",
    "    full.drop(['client_id', 'target'], axis=1),\n",
    "    full['target'],\n",
    "    test_size = TEST_SIZE,\n",
    "    random_state = RANDOM_STATE,\n",
    "    stratify = full['target']\n",
    ")"
   ]
  },
  {
   "cell_type": "code",
   "execution_count": 54,
   "id": "e4e8d29a",
   "metadata": {
    "colab": {
     "base_uri": "https://localhost:8080/",
     "height": 176
    },
    "id": "e4e8d29a",
    "outputId": "db96af82-6b0e-418e-8e38-f3a30c2d2d6b",
    "scrolled": true
   },
   "outputs": [
    {
     "data": {
      "text/plain": [
       "target\n",
       "0    36665\n",
       "1      721\n",
       "Name: count, dtype: int64"
      ]
     },
     "execution_count": 54,
     "metadata": {},
     "output_type": "execute_result"
    }
   ],
   "source": [
    "y_train.value_counts()"
   ]
  },
  {
   "cell_type": "code",
   "execution_count": 55,
   "id": "ce898680",
   "metadata": {
    "id": "ce898680"
   },
   "outputs": [],
   "source": [
    "X_train = X_train.reset_index(drop=True)\n",
    "X_test = X_test.reset_index(drop=True)\n",
    "y_train = y_train.reset_index(drop=True)\n",
    "y_test = y_test.reset_index(drop=True)"
   ]
  },
  {
   "cell_type": "markdown",
   "id": "27066fac",
   "metadata": {
    "id": "27066fac"
   },
   "source": [
    "Мы видим явный дисбаланс классов, будем использовать метрику roc-auc"
   ]
  },
  {
   "cell_type": "code",
   "execution_count": 56,
   "id": "43634886",
   "metadata": {
    "colab": {
     "base_uri": "https://localhost:8080/"
    },
    "id": "43634886",
    "outputId": "329a6339-959f-4342-bbe2-5ee8100d7411",
    "scrolled": true
   },
   "outputs": [
    {
     "name": "stdout",
     "output_type": "stream",
     "text": [
      "<class 'pandas.core.frame.DataFrame'>\n",
      "RangeIndex: 37386 entries, 0 to 37385\n",
      "Data columns (total 19 columns):\n",
      " #   Column          Non-Null Count  Dtype  \n",
      "---  ------          --------------  -----  \n",
      " 0   email           37386 non-null  float64\n",
      " 1   mobile_push     37386 non-null  float64\n",
      " 2   total_quantity  37386 non-null  int64  \n",
      " 3   total_price     37386 non-null  float32\n",
      " 4   cat_1           37386 non-null  float64\n",
      " 5   cat_2           37386 non-null  float64\n",
      " 6   cat_3           37386 non-null  float64\n",
      " 7   cat_4           37386 non-null  float64\n",
      " 8   click           37386 non-null  float64\n",
      " 9   close           37386 non-null  float64\n",
      " 10  complain        37386 non-null  float64\n",
      " 11  hard_bounce     37386 non-null  float64\n",
      " 12  hbq_spam        37386 non-null  float64\n",
      " 13  open            37386 non-null  float64\n",
      " 14  purchase        37386 non-null  float64\n",
      " 15  send            37386 non-null  float64\n",
      " 16  soft_bounce     37386 non-null  float64\n",
      " 17  subscribe       37386 non-null  float64\n",
      " 18  unsubscribe     37386 non-null  float64\n",
      "dtypes: float32(1), float64(17), int64(1)\n",
      "memory usage: 5.3 MB\n"
     ]
    }
   ],
   "source": [
    "X_train.info()"
   ]
  },
  {
   "cell_type": "code",
   "execution_count": 57,
   "id": "9f4677af",
   "metadata": {
    "id": "9f4677af"
   },
   "outputs": [],
   "source": [
    "num_col = X_train.select_dtypes(include='number').columns.tolist()"
   ]
  },
  {
   "cell_type": "code",
   "execution_count": 58,
   "id": "ce9bfe42",
   "metadata": {
    "id": "ce9bfe42"
   },
   "outputs": [],
   "source": [
    "data_preprocessor = ColumnTransformer(\n",
    "    [('num',StandardScaler(), num_col)\n",
    "     #('ohe', ohe_pipe, ohe_col)\n",
    "    ],\n",
    "    remainder='passthrough'\n",
    ")"
   ]
  },
  {
   "cell_type": "code",
   "execution_count": 59,
   "id": "ebfc2eb9",
   "metadata": {
    "id": "ebfc2eb9"
   },
   "outputs": [],
   "source": [
    "param_distributions = [\n",
    "    # словарь для модели KNeighborsClassifier()\n",
    "    {\n",
    "        'models': [KNeighborsClassifier()],\n",
    "        'models__n_neighbors': range(1, 20),\n",
    "        'preprocessor__num': [StandardScaler(), MinMaxScaler()]\n",
    "    },\n",
    "    # словарь для модели DecisionTreeClassifier()\n",
    "    {\n",
    "        'models': [DecisionTreeClassifier(random_state=RANDOM_STATE)],\n",
    "        'models__max_depth': range(2, 11),\n",
    "        #'preprocessor__num': [StandardScaler(), MinMaxScaler(), 'passthrough']\n",
    "    },\n",
    "    # словарь для модели Catboost()\n",
    "         {\n",
    "         'models': [CatBoostClassifier(random_seed=RANDOM_STATE, silent=True)],\n",
    "         'models__depth': range(4, 10),\n",
    "         'models__learning_rate': [0.01, 0.05, 0.1],\n",
    "         'models__iterations': [100, 500, 1000],\n",
    "         'preprocessor__num': ['passthrough']\n",
    "\n",
    "     },\n",
    "    #словарь для модели LightGBM\n",
    "    {\n",
    "        'models': [LGBMClassifier(random_state=RANDOM_STATE, class_weight='balanced')],\n",
    "        'models__n_estimators': [50, 100, 150],\n",
    "        'models__num_leaves': [31, 50, 70],\n",
    "        'models__learning_rate': [0.01, 0.05, 0.1],\n",
    "        'preprocessor__num': ['passthrough']\n",
    "    },\n",
    "\n",
    "]"
   ]
  },
  {
   "cell_type": "code",
   "execution_count": 60,
   "id": "b70eca74",
   "metadata": {
    "id": "b70eca74"
   },
   "outputs": [],
   "source": [
    " pipe_final = Pipeline([\n",
    "     ('preprocessor', data_preprocessor),\n",
    "     #('smote', smote),\n",
    "     ('models', DecisionTreeClassifier(random_state=RANDOM_STATE))\n",
    " ])"
   ]
  },
  {
   "cell_type": "code",
   "execution_count": 61,
   "id": "W-O14k9b6pyz",
   "metadata": {
    "id": "W-O14k9b6pyz"
   },
   "outputs": [
    {
     "data": {
      "text/html": [
       "<style>#sk-container-id-1 {\n",
       "  /* Definition of color scheme common for light and dark mode */\n",
       "  --sklearn-color-text: black;\n",
       "  --sklearn-color-line: gray;\n",
       "  /* Definition of color scheme for unfitted estimators */\n",
       "  --sklearn-color-unfitted-level-0: #fff5e6;\n",
       "  --sklearn-color-unfitted-level-1: #f6e4d2;\n",
       "  --sklearn-color-unfitted-level-2: #ffe0b3;\n",
       "  --sklearn-color-unfitted-level-3: chocolate;\n",
       "  /* Definition of color scheme for fitted estimators */\n",
       "  --sklearn-color-fitted-level-0: #f0f8ff;\n",
       "  --sklearn-color-fitted-level-1: #d4ebff;\n",
       "  --sklearn-color-fitted-level-2: #b3dbfd;\n",
       "  --sklearn-color-fitted-level-3: cornflowerblue;\n",
       "\n",
       "  /* Specific color for light theme */\n",
       "  --sklearn-color-text-on-default-background: var(--sg-text-color, var(--theme-code-foreground, var(--jp-content-font-color1, black)));\n",
       "  --sklearn-color-background: var(--sg-background-color, var(--theme-background, var(--jp-layout-color0, white)));\n",
       "  --sklearn-color-border-box: var(--sg-text-color, var(--theme-code-foreground, var(--jp-content-font-color1, black)));\n",
       "  --sklearn-color-icon: #696969;\n",
       "\n",
       "  @media (prefers-color-scheme: dark) {\n",
       "    /* Redefinition of color scheme for dark theme */\n",
       "    --sklearn-color-text-on-default-background: var(--sg-text-color, var(--theme-code-foreground, var(--jp-content-font-color1, white)));\n",
       "    --sklearn-color-background: var(--sg-background-color, var(--theme-background, var(--jp-layout-color0, #111)));\n",
       "    --sklearn-color-border-box: var(--sg-text-color, var(--theme-code-foreground, var(--jp-content-font-color1, white)));\n",
       "    --sklearn-color-icon: #878787;\n",
       "  }\n",
       "}\n",
       "\n",
       "#sk-container-id-1 {\n",
       "  color: var(--sklearn-color-text);\n",
       "}\n",
       "\n",
       "#sk-container-id-1 pre {\n",
       "  padding: 0;\n",
       "}\n",
       "\n",
       "#sk-container-id-1 input.sk-hidden--visually {\n",
       "  border: 0;\n",
       "  clip: rect(1px 1px 1px 1px);\n",
       "  clip: rect(1px, 1px, 1px, 1px);\n",
       "  height: 1px;\n",
       "  margin: -1px;\n",
       "  overflow: hidden;\n",
       "  padding: 0;\n",
       "  position: absolute;\n",
       "  width: 1px;\n",
       "}\n",
       "\n",
       "#sk-container-id-1 div.sk-dashed-wrapped {\n",
       "  border: 1px dashed var(--sklearn-color-line);\n",
       "  margin: 0 0.4em 0.5em 0.4em;\n",
       "  box-sizing: border-box;\n",
       "  padding-bottom: 0.4em;\n",
       "  background-color: var(--sklearn-color-background);\n",
       "}\n",
       "\n",
       "#sk-container-id-1 div.sk-container {\n",
       "  /* jupyter's `normalize.less` sets `[hidden] { display: none; }`\n",
       "     but bootstrap.min.css set `[hidden] { display: none !important; }`\n",
       "     so we also need the `!important` here to be able to override the\n",
       "     default hidden behavior on the sphinx rendered scikit-learn.org.\n",
       "     See: https://github.com/scikit-learn/scikit-learn/issues/21755 */\n",
       "  display: inline-block !important;\n",
       "  position: relative;\n",
       "}\n",
       "\n",
       "#sk-container-id-1 div.sk-text-repr-fallback {\n",
       "  display: none;\n",
       "}\n",
       "\n",
       "div.sk-parallel-item,\n",
       "div.sk-serial,\n",
       "div.sk-item {\n",
       "  /* draw centered vertical line to link estimators */\n",
       "  background-image: linear-gradient(var(--sklearn-color-text-on-default-background), var(--sklearn-color-text-on-default-background));\n",
       "  background-size: 2px 100%;\n",
       "  background-repeat: no-repeat;\n",
       "  background-position: center center;\n",
       "}\n",
       "\n",
       "/* Parallel-specific style estimator block */\n",
       "\n",
       "#sk-container-id-1 div.sk-parallel-item::after {\n",
       "  content: \"\";\n",
       "  width: 100%;\n",
       "  border-bottom: 2px solid var(--sklearn-color-text-on-default-background);\n",
       "  flex-grow: 1;\n",
       "}\n",
       "\n",
       "#sk-container-id-1 div.sk-parallel {\n",
       "  display: flex;\n",
       "  align-items: stretch;\n",
       "  justify-content: center;\n",
       "  background-color: var(--sklearn-color-background);\n",
       "  position: relative;\n",
       "}\n",
       "\n",
       "#sk-container-id-1 div.sk-parallel-item {\n",
       "  display: flex;\n",
       "  flex-direction: column;\n",
       "}\n",
       "\n",
       "#sk-container-id-1 div.sk-parallel-item:first-child::after {\n",
       "  align-self: flex-end;\n",
       "  width: 50%;\n",
       "}\n",
       "\n",
       "#sk-container-id-1 div.sk-parallel-item:last-child::after {\n",
       "  align-self: flex-start;\n",
       "  width: 50%;\n",
       "}\n",
       "\n",
       "#sk-container-id-1 div.sk-parallel-item:only-child::after {\n",
       "  width: 0;\n",
       "}\n",
       "\n",
       "/* Serial-specific style estimator block */\n",
       "\n",
       "#sk-container-id-1 div.sk-serial {\n",
       "  display: flex;\n",
       "  flex-direction: column;\n",
       "  align-items: center;\n",
       "  background-color: var(--sklearn-color-background);\n",
       "  padding-right: 1em;\n",
       "  padding-left: 1em;\n",
       "}\n",
       "\n",
       "\n",
       "/* Toggleable style: style used for estimator/Pipeline/ColumnTransformer box that is\n",
       "clickable and can be expanded/collapsed.\n",
       "- Pipeline and ColumnTransformer use this feature and define the default style\n",
       "- Estimators will overwrite some part of the style using the `sk-estimator` class\n",
       "*/\n",
       "\n",
       "/* Pipeline and ColumnTransformer style (default) */\n",
       "\n",
       "#sk-container-id-1 div.sk-toggleable {\n",
       "  /* Default theme specific background. It is overwritten whether we have a\n",
       "  specific estimator or a Pipeline/ColumnTransformer */\n",
       "  background-color: var(--sklearn-color-background);\n",
       "}\n",
       "\n",
       "/* Toggleable label */\n",
       "#sk-container-id-1 label.sk-toggleable__label {\n",
       "  cursor: pointer;\n",
       "  display: block;\n",
       "  width: 100%;\n",
       "  margin-bottom: 0;\n",
       "  padding: 0.5em;\n",
       "  box-sizing: border-box;\n",
       "  text-align: center;\n",
       "}\n",
       "\n",
       "#sk-container-id-1 label.sk-toggleable__label-arrow:before {\n",
       "  /* Arrow on the left of the label */\n",
       "  content: \"▸\";\n",
       "  float: left;\n",
       "  margin-right: 0.25em;\n",
       "  color: var(--sklearn-color-icon);\n",
       "}\n",
       "\n",
       "#sk-container-id-1 label.sk-toggleable__label-arrow:hover:before {\n",
       "  color: var(--sklearn-color-text);\n",
       "}\n",
       "\n",
       "/* Toggleable content - dropdown */\n",
       "\n",
       "#sk-container-id-1 div.sk-toggleable__content {\n",
       "  max-height: 0;\n",
       "  max-width: 0;\n",
       "  overflow: hidden;\n",
       "  text-align: left;\n",
       "  /* unfitted */\n",
       "  background-color: var(--sklearn-color-unfitted-level-0);\n",
       "}\n",
       "\n",
       "#sk-container-id-1 div.sk-toggleable__content.fitted {\n",
       "  /* fitted */\n",
       "  background-color: var(--sklearn-color-fitted-level-0);\n",
       "}\n",
       "\n",
       "#sk-container-id-1 div.sk-toggleable__content pre {\n",
       "  margin: 0.2em;\n",
       "  border-radius: 0.25em;\n",
       "  color: var(--sklearn-color-text);\n",
       "  /* unfitted */\n",
       "  background-color: var(--sklearn-color-unfitted-level-0);\n",
       "}\n",
       "\n",
       "#sk-container-id-1 div.sk-toggleable__content.fitted pre {\n",
       "  /* unfitted */\n",
       "  background-color: var(--sklearn-color-fitted-level-0);\n",
       "}\n",
       "\n",
       "#sk-container-id-1 input.sk-toggleable__control:checked~div.sk-toggleable__content {\n",
       "  /* Expand drop-down */\n",
       "  max-height: 200px;\n",
       "  max-width: 100%;\n",
       "  overflow: auto;\n",
       "}\n",
       "\n",
       "#sk-container-id-1 input.sk-toggleable__control:checked~label.sk-toggleable__label-arrow:before {\n",
       "  content: \"▾\";\n",
       "}\n",
       "\n",
       "/* Pipeline/ColumnTransformer-specific style */\n",
       "\n",
       "#sk-container-id-1 div.sk-label input.sk-toggleable__control:checked~label.sk-toggleable__label {\n",
       "  color: var(--sklearn-color-text);\n",
       "  background-color: var(--sklearn-color-unfitted-level-2);\n",
       "}\n",
       "\n",
       "#sk-container-id-1 div.sk-label.fitted input.sk-toggleable__control:checked~label.sk-toggleable__label {\n",
       "  background-color: var(--sklearn-color-fitted-level-2);\n",
       "}\n",
       "\n",
       "/* Estimator-specific style */\n",
       "\n",
       "/* Colorize estimator box */\n",
       "#sk-container-id-1 div.sk-estimator input.sk-toggleable__control:checked~label.sk-toggleable__label {\n",
       "  /* unfitted */\n",
       "  background-color: var(--sklearn-color-unfitted-level-2);\n",
       "}\n",
       "\n",
       "#sk-container-id-1 div.sk-estimator.fitted input.sk-toggleable__control:checked~label.sk-toggleable__label {\n",
       "  /* fitted */\n",
       "  background-color: var(--sklearn-color-fitted-level-2);\n",
       "}\n",
       "\n",
       "#sk-container-id-1 div.sk-label label.sk-toggleable__label,\n",
       "#sk-container-id-1 div.sk-label label {\n",
       "  /* The background is the default theme color */\n",
       "  color: var(--sklearn-color-text-on-default-background);\n",
       "}\n",
       "\n",
       "/* On hover, darken the color of the background */\n",
       "#sk-container-id-1 div.sk-label:hover label.sk-toggleable__label {\n",
       "  color: var(--sklearn-color-text);\n",
       "  background-color: var(--sklearn-color-unfitted-level-2);\n",
       "}\n",
       "\n",
       "/* Label box, darken color on hover, fitted */\n",
       "#sk-container-id-1 div.sk-label.fitted:hover label.sk-toggleable__label.fitted {\n",
       "  color: var(--sklearn-color-text);\n",
       "  background-color: var(--sklearn-color-fitted-level-2);\n",
       "}\n",
       "\n",
       "/* Estimator label */\n",
       "\n",
       "#sk-container-id-1 div.sk-label label {\n",
       "  font-family: monospace;\n",
       "  font-weight: bold;\n",
       "  display: inline-block;\n",
       "  line-height: 1.2em;\n",
       "}\n",
       "\n",
       "#sk-container-id-1 div.sk-label-container {\n",
       "  text-align: center;\n",
       "}\n",
       "\n",
       "/* Estimator-specific */\n",
       "#sk-container-id-1 div.sk-estimator {\n",
       "  font-family: monospace;\n",
       "  border: 1px dotted var(--sklearn-color-border-box);\n",
       "  border-radius: 0.25em;\n",
       "  box-sizing: border-box;\n",
       "  margin-bottom: 0.5em;\n",
       "  /* unfitted */\n",
       "  background-color: var(--sklearn-color-unfitted-level-0);\n",
       "}\n",
       "\n",
       "#sk-container-id-1 div.sk-estimator.fitted {\n",
       "  /* fitted */\n",
       "  background-color: var(--sklearn-color-fitted-level-0);\n",
       "}\n",
       "\n",
       "/* on hover */\n",
       "#sk-container-id-1 div.sk-estimator:hover {\n",
       "  /* unfitted */\n",
       "  background-color: var(--sklearn-color-unfitted-level-2);\n",
       "}\n",
       "\n",
       "#sk-container-id-1 div.sk-estimator.fitted:hover {\n",
       "  /* fitted */\n",
       "  background-color: var(--sklearn-color-fitted-level-2);\n",
       "}\n",
       "\n",
       "/* Specification for estimator info (e.g. \"i\" and \"?\") */\n",
       "\n",
       "/* Common style for \"i\" and \"?\" */\n",
       "\n",
       ".sk-estimator-doc-link,\n",
       "a:link.sk-estimator-doc-link,\n",
       "a:visited.sk-estimator-doc-link {\n",
       "  float: right;\n",
       "  font-size: smaller;\n",
       "  line-height: 1em;\n",
       "  font-family: monospace;\n",
       "  background-color: var(--sklearn-color-background);\n",
       "  border-radius: 1em;\n",
       "  height: 1em;\n",
       "  width: 1em;\n",
       "  text-decoration: none !important;\n",
       "  margin-left: 1ex;\n",
       "  /* unfitted */\n",
       "  border: var(--sklearn-color-unfitted-level-1) 1pt solid;\n",
       "  color: var(--sklearn-color-unfitted-level-1);\n",
       "}\n",
       "\n",
       ".sk-estimator-doc-link.fitted,\n",
       "a:link.sk-estimator-doc-link.fitted,\n",
       "a:visited.sk-estimator-doc-link.fitted {\n",
       "  /* fitted */\n",
       "  border: var(--sklearn-color-fitted-level-1) 1pt solid;\n",
       "  color: var(--sklearn-color-fitted-level-1);\n",
       "}\n",
       "\n",
       "/* On hover */\n",
       "div.sk-estimator:hover .sk-estimator-doc-link:hover,\n",
       ".sk-estimator-doc-link:hover,\n",
       "div.sk-label-container:hover .sk-estimator-doc-link:hover,\n",
       ".sk-estimator-doc-link:hover {\n",
       "  /* unfitted */\n",
       "  background-color: var(--sklearn-color-unfitted-level-3);\n",
       "  color: var(--sklearn-color-background);\n",
       "  text-decoration: none;\n",
       "}\n",
       "\n",
       "div.sk-estimator.fitted:hover .sk-estimator-doc-link.fitted:hover,\n",
       ".sk-estimator-doc-link.fitted:hover,\n",
       "div.sk-label-container:hover .sk-estimator-doc-link.fitted:hover,\n",
       ".sk-estimator-doc-link.fitted:hover {\n",
       "  /* fitted */\n",
       "  background-color: var(--sklearn-color-fitted-level-3);\n",
       "  color: var(--sklearn-color-background);\n",
       "  text-decoration: none;\n",
       "}\n",
       "\n",
       "/* Span, style for the box shown on hovering the info icon */\n",
       ".sk-estimator-doc-link span {\n",
       "  display: none;\n",
       "  z-index: 9999;\n",
       "  position: relative;\n",
       "  font-weight: normal;\n",
       "  right: .2ex;\n",
       "  padding: .5ex;\n",
       "  margin: .5ex;\n",
       "  width: min-content;\n",
       "  min-width: 20ex;\n",
       "  max-width: 50ex;\n",
       "  color: var(--sklearn-color-text);\n",
       "  box-shadow: 2pt 2pt 4pt #999;\n",
       "  /* unfitted */\n",
       "  background: var(--sklearn-color-unfitted-level-0);\n",
       "  border: .5pt solid var(--sklearn-color-unfitted-level-3);\n",
       "}\n",
       "\n",
       ".sk-estimator-doc-link.fitted span {\n",
       "  /* fitted */\n",
       "  background: var(--sklearn-color-fitted-level-0);\n",
       "  border: var(--sklearn-color-fitted-level-3);\n",
       "}\n",
       "\n",
       ".sk-estimator-doc-link:hover span {\n",
       "  display: block;\n",
       "}\n",
       "\n",
       "/* \"?\"-specific style due to the `<a>` HTML tag */\n",
       "\n",
       "#sk-container-id-1 a.estimator_doc_link {\n",
       "  float: right;\n",
       "  font-size: 1rem;\n",
       "  line-height: 1em;\n",
       "  font-family: monospace;\n",
       "  background-color: var(--sklearn-color-background);\n",
       "  border-radius: 1rem;\n",
       "  height: 1rem;\n",
       "  width: 1rem;\n",
       "  text-decoration: none;\n",
       "  /* unfitted */\n",
       "  color: var(--sklearn-color-unfitted-level-1);\n",
       "  border: var(--sklearn-color-unfitted-level-1) 1pt solid;\n",
       "}\n",
       "\n",
       "#sk-container-id-1 a.estimator_doc_link.fitted {\n",
       "  /* fitted */\n",
       "  border: var(--sklearn-color-fitted-level-1) 1pt solid;\n",
       "  color: var(--sklearn-color-fitted-level-1);\n",
       "}\n",
       "\n",
       "/* On hover */\n",
       "#sk-container-id-1 a.estimator_doc_link:hover {\n",
       "  /* unfitted */\n",
       "  background-color: var(--sklearn-color-unfitted-level-3);\n",
       "  color: var(--sklearn-color-background);\n",
       "  text-decoration: none;\n",
       "}\n",
       "\n",
       "#sk-container-id-1 a.estimator_doc_link.fitted:hover {\n",
       "  /* fitted */\n",
       "  background-color: var(--sklearn-color-fitted-level-3);\n",
       "}\n",
       "</style><div id=\"sk-container-id-1\" class=\"sk-top-container\"><div class=\"sk-text-repr-fallback\"><pre>RandomizedSearchCV(estimator=Pipeline(steps=[(&#x27;preprocessor&#x27;,\n",
       "                                              ColumnTransformer(remainder=&#x27;passthrough&#x27;,\n",
       "                                                                transformers=[(&#x27;num&#x27;,\n",
       "                                                                               StandardScaler(),\n",
       "                                                                               [&#x27;email&#x27;,\n",
       "                                                                                &#x27;mobile_push&#x27;,\n",
       "                                                                                &#x27;total_quantity&#x27;,\n",
       "                                                                                &#x27;total_price&#x27;,\n",
       "                                                                                &#x27;cat_1&#x27;,\n",
       "                                                                                &#x27;cat_2&#x27;,\n",
       "                                                                                &#x27;cat_3&#x27;,\n",
       "                                                                                &#x27;cat_4&#x27;,\n",
       "                                                                                &#x27;click&#x27;,\n",
       "                                                                                &#x27;close&#x27;,\n",
       "                                                                                &#x27;complain&#x27;,\n",
       "                                                                                &#x27;hard_bounce&#x27;,\n",
       "                                                                                &#x27;hbq_spam&#x27;,\n",
       "                                                                                &#x27;open&#x27;,\n",
       "                                                                                &#x27;purchase&#x27;,\n",
       "                                                                                &#x27;send&#x27;,\n",
       "                                                                                &#x27;soft_bounce&#x27;,\n",
       "                                                                                &#x27;subscribe&#x27;,\n",
       "                                                                                &#x27;unsubscribe&#x27;])])),\n",
       "                                             (...\n",
       "                                         &#x27;models__iterations&#x27;: [100, 500, 1000],\n",
       "                                         &#x27;models__learning_rate&#x27;: [0.01, 0.05,\n",
       "                                                                   0.1],\n",
       "                                         &#x27;preprocessor__num&#x27;: [&#x27;passthrough&#x27;]},\n",
       "                                        {&#x27;models&#x27;: [LGBMClassifier(class_weight=&#x27;balanced&#x27;,\n",
       "                                                                   random_state=42)],\n",
       "                                         &#x27;models__learning_rate&#x27;: [0.01, 0.05,\n",
       "                                                                   0.1],\n",
       "                                         &#x27;models__n_estimators&#x27;: [50, 100, 150],\n",
       "                                         &#x27;models__num_leaves&#x27;: [31, 50, 70],\n",
       "                                         &#x27;preprocessor__num&#x27;: [&#x27;passthrough&#x27;]}],\n",
       "                   random_state=42, scoring=&#x27;roc_auc&#x27;)</pre><b>In a Jupyter environment, please rerun this cell to show the HTML representation or trust the notebook. <br />On GitHub, the HTML representation is unable to render, please try loading this page with nbviewer.org.</b></div><div class=\"sk-container\" hidden><div class=\"sk-item sk-dashed-wrapped\"><div class=\"sk-label-container\"><div class=\"sk-label fitted sk-toggleable\"><input class=\"sk-toggleable__control sk-hidden--visually\" id=\"sk-estimator-id-1\" type=\"checkbox\" ><label for=\"sk-estimator-id-1\" class=\"sk-toggleable__label fitted sk-toggleable__label-arrow fitted\">&nbsp;&nbsp;RandomizedSearchCV<a class=\"sk-estimator-doc-link fitted\" rel=\"noreferrer\" target=\"_blank\" href=\"https://scikit-learn.org/1.5/modules/generated/sklearn.model_selection.RandomizedSearchCV.html\">?<span>Documentation for RandomizedSearchCV</span></a><span class=\"sk-estimator-doc-link fitted\">i<span>Fitted</span></span></label><div class=\"sk-toggleable__content fitted\"><pre>RandomizedSearchCV(estimator=Pipeline(steps=[(&#x27;preprocessor&#x27;,\n",
       "                                              ColumnTransformer(remainder=&#x27;passthrough&#x27;,\n",
       "                                                                transformers=[(&#x27;num&#x27;,\n",
       "                                                                               StandardScaler(),\n",
       "                                                                               [&#x27;email&#x27;,\n",
       "                                                                                &#x27;mobile_push&#x27;,\n",
       "                                                                                &#x27;total_quantity&#x27;,\n",
       "                                                                                &#x27;total_price&#x27;,\n",
       "                                                                                &#x27;cat_1&#x27;,\n",
       "                                                                                &#x27;cat_2&#x27;,\n",
       "                                                                                &#x27;cat_3&#x27;,\n",
       "                                                                                &#x27;cat_4&#x27;,\n",
       "                                                                                &#x27;click&#x27;,\n",
       "                                                                                &#x27;close&#x27;,\n",
       "                                                                                &#x27;complain&#x27;,\n",
       "                                                                                &#x27;hard_bounce&#x27;,\n",
       "                                                                                &#x27;hbq_spam&#x27;,\n",
       "                                                                                &#x27;open&#x27;,\n",
       "                                                                                &#x27;purchase&#x27;,\n",
       "                                                                                &#x27;send&#x27;,\n",
       "                                                                                &#x27;soft_bounce&#x27;,\n",
       "                                                                                &#x27;subscribe&#x27;,\n",
       "                                                                                &#x27;unsubscribe&#x27;])])),\n",
       "                                             (...\n",
       "                                         &#x27;models__iterations&#x27;: [100, 500, 1000],\n",
       "                                         &#x27;models__learning_rate&#x27;: [0.01, 0.05,\n",
       "                                                                   0.1],\n",
       "                                         &#x27;preprocessor__num&#x27;: [&#x27;passthrough&#x27;]},\n",
       "                                        {&#x27;models&#x27;: [LGBMClassifier(class_weight=&#x27;balanced&#x27;,\n",
       "                                                                   random_state=42)],\n",
       "                                         &#x27;models__learning_rate&#x27;: [0.01, 0.05,\n",
       "                                                                   0.1],\n",
       "                                         &#x27;models__n_estimators&#x27;: [50, 100, 150],\n",
       "                                         &#x27;models__num_leaves&#x27;: [31, 50, 70],\n",
       "                                         &#x27;preprocessor__num&#x27;: [&#x27;passthrough&#x27;]}],\n",
       "                   random_state=42, scoring=&#x27;roc_auc&#x27;)</pre></div> </div></div><div class=\"sk-parallel\"><div class=\"sk-parallel-item\"><div class=\"sk-item\"><div class=\"sk-label-container\"><div class=\"sk-label fitted sk-toggleable\"><input class=\"sk-toggleable__control sk-hidden--visually\" id=\"sk-estimator-id-2\" type=\"checkbox\" ><label for=\"sk-estimator-id-2\" class=\"sk-toggleable__label fitted sk-toggleable__label-arrow fitted\">best_estimator_: Pipeline</label><div class=\"sk-toggleable__content fitted\"><pre>Pipeline(steps=[(&#x27;preprocessor&#x27;,\n",
       "                 ColumnTransformer(remainder=&#x27;passthrough&#x27;,\n",
       "                                   transformers=[(&#x27;num&#x27;, &#x27;passthrough&#x27;,\n",
       "                                                  [&#x27;email&#x27;, &#x27;mobile_push&#x27;,\n",
       "                                                   &#x27;total_quantity&#x27;,\n",
       "                                                   &#x27;total_price&#x27;, &#x27;cat_1&#x27;,\n",
       "                                                   &#x27;cat_2&#x27;, &#x27;cat_3&#x27;, &#x27;cat_4&#x27;,\n",
       "                                                   &#x27;click&#x27;, &#x27;close&#x27;, &#x27;complain&#x27;,\n",
       "                                                   &#x27;hard_bounce&#x27;, &#x27;hbq_spam&#x27;,\n",
       "                                                   &#x27;open&#x27;, &#x27;purchase&#x27;, &#x27;send&#x27;,\n",
       "                                                   &#x27;soft_bounce&#x27;, &#x27;subscribe&#x27;,\n",
       "                                                   &#x27;unsubscribe&#x27;])])),\n",
       "                (&#x27;models&#x27;,\n",
       "                 &lt;catboost.core.CatBoostClassifier object at 0x000002121048E9D0&gt;)])</pre></div> </div></div><div class=\"sk-serial\"><div class=\"sk-item\"><div class=\"sk-serial\"><div class=\"sk-item sk-dashed-wrapped\"><div class=\"sk-label-container\"><div class=\"sk-label fitted sk-toggleable\"><input class=\"sk-toggleable__control sk-hidden--visually\" id=\"sk-estimator-id-3\" type=\"checkbox\" ><label for=\"sk-estimator-id-3\" class=\"sk-toggleable__label fitted sk-toggleable__label-arrow fitted\">&nbsp;preprocessor: ColumnTransformer<a class=\"sk-estimator-doc-link fitted\" rel=\"noreferrer\" target=\"_blank\" href=\"https://scikit-learn.org/1.5/modules/generated/sklearn.compose.ColumnTransformer.html\">?<span>Documentation for preprocessor: ColumnTransformer</span></a></label><div class=\"sk-toggleable__content fitted\"><pre>ColumnTransformer(remainder=&#x27;passthrough&#x27;,\n",
       "                  transformers=[(&#x27;num&#x27;, &#x27;passthrough&#x27;,\n",
       "                                 [&#x27;email&#x27;, &#x27;mobile_push&#x27;, &#x27;total_quantity&#x27;,\n",
       "                                  &#x27;total_price&#x27;, &#x27;cat_1&#x27;, &#x27;cat_2&#x27;, &#x27;cat_3&#x27;,\n",
       "                                  &#x27;cat_4&#x27;, &#x27;click&#x27;, &#x27;close&#x27;, &#x27;complain&#x27;,\n",
       "                                  &#x27;hard_bounce&#x27;, &#x27;hbq_spam&#x27;, &#x27;open&#x27;, &#x27;purchase&#x27;,\n",
       "                                  &#x27;send&#x27;, &#x27;soft_bounce&#x27;, &#x27;subscribe&#x27;,\n",
       "                                  &#x27;unsubscribe&#x27;])])</pre></div> </div></div><div class=\"sk-parallel\"><div class=\"sk-parallel-item\"><div class=\"sk-item\"><div class=\"sk-label-container\"><div class=\"sk-label fitted sk-toggleable\"><input class=\"sk-toggleable__control sk-hidden--visually\" id=\"sk-estimator-id-4\" type=\"checkbox\" ><label for=\"sk-estimator-id-4\" class=\"sk-toggleable__label fitted sk-toggleable__label-arrow fitted\">num</label><div class=\"sk-toggleable__content fitted\"><pre>[&#x27;email&#x27;, &#x27;mobile_push&#x27;, &#x27;total_quantity&#x27;, &#x27;total_price&#x27;, &#x27;cat_1&#x27;, &#x27;cat_2&#x27;, &#x27;cat_3&#x27;, &#x27;cat_4&#x27;, &#x27;click&#x27;, &#x27;close&#x27;, &#x27;complain&#x27;, &#x27;hard_bounce&#x27;, &#x27;hbq_spam&#x27;, &#x27;open&#x27;, &#x27;purchase&#x27;, &#x27;send&#x27;, &#x27;soft_bounce&#x27;, &#x27;subscribe&#x27;, &#x27;unsubscribe&#x27;]</pre></div> </div></div><div class=\"sk-serial\"><div class=\"sk-item\"><div class=\"sk-estimator fitted sk-toggleable\"><input class=\"sk-toggleable__control sk-hidden--visually\" id=\"sk-estimator-id-5\" type=\"checkbox\" ><label for=\"sk-estimator-id-5\" class=\"sk-toggleable__label fitted sk-toggleable__label-arrow fitted\">passthrough</label><div class=\"sk-toggleable__content fitted\"><pre>passthrough</pre></div> </div></div></div></div></div><div class=\"sk-parallel-item\"><div class=\"sk-item\"><div class=\"sk-label-container\"><div class=\"sk-label fitted sk-toggleable\"><input class=\"sk-toggleable__control sk-hidden--visually\" id=\"sk-estimator-id-6\" type=\"checkbox\" ><label for=\"sk-estimator-id-6\" class=\"sk-toggleable__label fitted sk-toggleable__label-arrow fitted\">remainder</label><div class=\"sk-toggleable__content fitted\"><pre>[]</pre></div> </div></div><div class=\"sk-serial\"><div class=\"sk-item\"><div class=\"sk-estimator fitted sk-toggleable\"><input class=\"sk-toggleable__control sk-hidden--visually\" id=\"sk-estimator-id-7\" type=\"checkbox\" ><label for=\"sk-estimator-id-7\" class=\"sk-toggleable__label fitted sk-toggleable__label-arrow fitted\">passthrough</label><div class=\"sk-toggleable__content fitted\"><pre>passthrough</pre></div> </div></div></div></div></div></div></div><div class=\"sk-item\"><div class=\"sk-estimator fitted sk-toggleable\"><input class=\"sk-toggleable__control sk-hidden--visually\" id=\"sk-estimator-id-8\" type=\"checkbox\" ><label for=\"sk-estimator-id-8\" class=\"sk-toggleable__label fitted sk-toggleable__label-arrow fitted\">CatBoostClassifier</label><div class=\"sk-toggleable__content fitted\"><pre>&lt;catboost.core.CatBoostClassifier object at 0x000002121048E9D0&gt;</pre></div> </div></div></div></div></div></div></div></div></div></div></div>"
      ],
      "text/plain": [
       "RandomizedSearchCV(estimator=Pipeline(steps=[('preprocessor',\n",
       "                                              ColumnTransformer(remainder='passthrough',\n",
       "                                                                transformers=[('num',\n",
       "                                                                               StandardScaler(),\n",
       "                                                                               ['email',\n",
       "                                                                                'mobile_push',\n",
       "                                                                                'total_quantity',\n",
       "                                                                                'total_price',\n",
       "                                                                                'cat_1',\n",
       "                                                                                'cat_2',\n",
       "                                                                                'cat_3',\n",
       "                                                                                'cat_4',\n",
       "                                                                                'click',\n",
       "                                                                                'close',\n",
       "                                                                                'complain',\n",
       "                                                                                'hard_bounce',\n",
       "                                                                                'hbq_spam',\n",
       "                                                                                'open',\n",
       "                                                                                'purchase',\n",
       "                                                                                'send',\n",
       "                                                                                'soft_bounce',\n",
       "                                                                                'subscribe',\n",
       "                                                                                'unsubscribe'])])),\n",
       "                                             (...\n",
       "                                         'models__iterations': [100, 500, 1000],\n",
       "                                         'models__learning_rate': [0.01, 0.05,\n",
       "                                                                   0.1],\n",
       "                                         'preprocessor__num': ['passthrough']},\n",
       "                                        {'models': [LGBMClassifier(class_weight='balanced',\n",
       "                                                                   random_state=42)],\n",
       "                                         'models__learning_rate': [0.01, 0.05,\n",
       "                                                                   0.1],\n",
       "                                         'models__n_estimators': [50, 100, 150],\n",
       "                                         'models__num_leaves': [31, 50, 70],\n",
       "                                         'preprocessor__num': ['passthrough']}],\n",
       "                   random_state=42, scoring='roc_auc')"
      ]
     },
     "execution_count": 61,
     "metadata": {},
     "output_type": "execute_result"
    }
   ],
   "source": [
    "randomized_search=RandomizedSearchCV(\n",
    "    pipe_final,\n",
    "    param_distributions=param_distributions,\n",
    "    scoring='roc_auc',\n",
    "    random_state=RANDOM_STATE,\n",
    "    n_jobs=-1\n",
    ")\n",
    "randomized_search.fit(X_train, y_train)"
   ]
  },
  {
   "cell_type": "code",
   "execution_count": 62,
   "id": "fa26a830",
   "metadata": {
    "id": "fa26a830"
   },
   "outputs": [
    {
     "name": "stdout",
     "output_type": "stream",
     "text": [
      "Метрика для лучшей модели: \n",
      " 0.7\n",
      "\n",
      "Лучшая модель:\n",
      "\n",
      " Pipeline(steps=[('preprocessor',\n",
      "                 ColumnTransformer(remainder='passthrough',\n",
      "                                   transformers=[('num', 'passthrough',\n",
      "                                                  ['email', 'mobile_push',\n",
      "                                                   'total_quantity',\n",
      "                                                   'total_price', 'cat_1',\n",
      "                                                   'cat_2', 'cat_3', 'cat_4',\n",
      "                                                   'click', 'close', 'complain',\n",
      "                                                   'hard_bounce', 'hbq_spam',\n",
      "                                                   'open', 'purchase', 'send',\n",
      "                                                   'soft_bounce', 'subscribe',\n",
      "                                                   'unsubscribe'])])),\n",
      "                ('models',\n",
      "                 <catboost.core.CatBoostClassifier object at 0x000002121048E9D0>)])\n",
      "\n",
      "Параметры:\n",
      "\n",
      " {'preprocessor__num': 'passthrough', 'models__learning_rate': 0.01, 'models__iterations': 1000, 'models__depth': 9, 'models': <catboost.core.CatBoostClassifier object at 0x00000212109E8550>}\n"
     ]
    }
   ],
   "source": [
    "print('Метрика для лучшей модели: \\n', round(randomized_search.best_score_,1))\n",
    "print('\\nЛучшая модель:\\n\\n', randomized_search.best_estimator_)\n",
    "print('\\nПараметры:\\n\\n', randomized_search.best_params_)"
   ]
  },
  {
   "cell_type": "code",
   "execution_count": 63,
   "id": "0089859a",
   "metadata": {},
   "outputs": [
    {
     "name": "stdout",
     "output_type": "stream",
     "text": [
      "Метрика roc_auc на тестовой выборке: 0.7\n"
     ]
    }
   ],
   "source": [
    "# рассчитаем прогноз на тестовых данных\n",
    "y_test_pred_proba = randomized_search.predict_proba(X_test)\n",
    "print('Метрика roc_auc на тестовой выборке:', round(roc_auc_score(y_test, y_test_pred_proba[:, 1]),1))"
   ]
  },
  {
   "cell_type": "markdown",
   "id": "1801c0a2",
   "metadata": {},
   "source": [
    "<b>Вывод</b>\n",
    "<br> На данном этапе раделили датасет на тренировочную и тестовую выборки, обучили 4 модели. Лучшей оказалась CatBoostClassifier, метрика на тренировочной и тестовой выборках составляет 0,7."
   ]
  },
  {
   "cell_type": "markdown",
   "id": "9da1454b",
   "metadata": {
    "id": "de4a8df3"
   },
   "source": [
    "## Общий вывод"
   ]
  },
  {
   "cell_type": "markdown",
   "id": "30b39fff",
   "metadata": {
    "id": "9d16dc12"
   },
   "source": [
    "<b>Этап загрузки данных</b>\n",
    "<br>На данном шаге были загружены и предварительно изучены три датасета: messages, purchases, target\n",
    "<br>messages содержит 12739798 строк и 7 столбцов, названия столбцов в змеином регистре, типы данных не все верны - date, created_at были приведены к типу datetime\n",
    "<br>purchases содержит 202208 строк и 6 столбцов, названия столбцов соответствуют змеиному регистру, столбец date приведен к типу datetime.\n",
    "<br>target - целевой датасет, содержащий 49849 строк и 2 столбца, типы данных определены верно\n",
    "<br> Оптимизированы числовые типы данных для более быстрой работы\n",
    "\n",
    "<b>Этап предобработки данных</b>\n",
    "<br>Мы совершили предобработку данных, избавившись от явных дубликатов в таблицах message и purchase, неявных дубликатов обнаружено не было\n",
    "\n",
    "<b>Исследовательский анализ данных</b>\n",
    "<br><br>В таблице messages мы видим множество событий. Самое распространенное - send, a purchase встречается в 141 раз меньше\n",
    "<br>в столбце channel у нас более чем в 3 раза превышает рассылка по email, чем push уведомления\n",
    "<br> Немного чаще рассылки проводятся с помощью push уведомлений\n",
    "<br> В таблице purchases в столбцах purchases и price мы видим аномалии, которые вполне могут быть, если клиент брал оптом те или иные товары, оставим все как есть без изменений\n",
    "\n",
    "<b>Объединение таблиц</b>\n",
    "<br> На данном этапе объединили получившиеся таблицы в один датасет, пропуски заполнили нулями\n",
    "\n",
    "<b>Корреляционный анализ данных</b>\n",
    "<br>Мультиколлинеарность между признаками отсутствует, только сильная связь между некоторыми признаками (категориями товаров), согласно шкале Чеддока. \n",
    "\n",
    "<b>Обучение моделей</b>\n",
    "<br> Разделили датасет на тренировочную и тестовую выборки, обучили 4 модели. Лучшей оказалась CatBoostClassifier, метрика на тренировочной и тестовой выборках составляет 0,7.\n",
    "\n",
    "\n",
    "Мы можем обнозначно сказать, что данные в таблице не сбалансированы. В качестве дальнейшего улучшения проекта следует поработать над дисбалансом классов в датасете. Например, использовать AdaptiveSMOTE"
   ]
  },
  {
   "cell_type": "code",
   "execution_count": null,
   "id": "f6b31463",
   "metadata": {
    "id": "f6b31463"
   },
   "outputs": [],
   "source": []
  },
  {
   "cell_type": "code",
   "execution_count": null,
   "id": "b6db4066",
   "metadata": {
    "id": "b6db4066"
   },
   "outputs": [],
   "source": []
  },
  {
   "cell_type": "code",
   "execution_count": null,
   "id": "2c3b7c44",
   "metadata": {
    "id": "2c3b7c44"
   },
   "outputs": [],
   "source": []
  },
  {
   "cell_type": "code",
   "execution_count": null,
   "id": "bb9d3a7a",
   "metadata": {
    "id": "bb9d3a7a"
   },
   "outputs": [],
   "source": []
  },
  {
   "cell_type": "code",
   "execution_count": null,
   "id": "93ccb53d",
   "metadata": {
    "id": "93ccb53d"
   },
   "outputs": [],
   "source": []
  }
 ],
 "metadata": {
  "colab": {
   "provenance": []
  },
  "kernelspec": {
   "display_name": "Python 3 (ipykernel)",
   "language": "python",
   "name": "python3"
  },
  "language_info": {
   "codemirror_mode": {
    "name": "ipython",
    "version": 3
   },
   "file_extension": ".py",
   "mimetype": "text/x-python",
   "name": "python",
   "nbconvert_exporter": "python",
   "pygments_lexer": "ipython3",
   "version": "3.9.19"
  },
  "toc": {
   "base_numbering": 1,
   "nav_menu": {},
   "number_sections": true,
   "sideBar": true,
   "skip_h1_title": false,
   "title_cell": "Table of Contents",
   "title_sidebar": "Contents",
   "toc_cell": false,
   "toc_position": {},
   "toc_section_display": true,
   "toc_window_display": false
  }
 },
 "nbformat": 4,
 "nbformat_minor": 5
}
